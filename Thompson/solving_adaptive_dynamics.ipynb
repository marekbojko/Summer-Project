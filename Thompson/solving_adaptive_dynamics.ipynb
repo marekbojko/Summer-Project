{
 "cells": [
  {
   "cell_type": "code",
   "execution_count": 2,
   "metadata": {},
   "outputs": [],
   "source": [
    "import numpy as np\n",
    "import math"
   ]
  },
  {
   "cell_type": "markdown",
   "metadata": {},
   "source": [
    "# Quorum fitness and linear costs"
   ]
  },
  {
   "cell_type": "markdown",
   "metadata": {},
   "source": [
    "The payoff of a rare strategy y in a monomorphic resident population with strategy x is:\n",
    "\n",
    "$$F(y,x) = q(c_{y,x}) - c(y)$$,\n",
    "\n",
    "where $q,c: [0,1] \\rightarrow \\mathbb{R}$ is a quorum function of the type $q(x) = \\frac{x^m}{x^m+b^m}$ for $m\\geq2$ and for a treshold $b \\in [0,1]$ and $c(x)=kx$ for $k \\in \\mathbb{R}$.\n",
    "\n",
    "By analytical derivation, we get to solve the following expression to find singular points\n",
    "\n",
    "$$p^{2m} ke^{-2 \\lambda m R(0)} + p^m b^m e^{-\\lambda m R(0)}(2+d \\lambda m) + kb^{2m} = 0$$"
   ]
  },
  {
   "cell_type": "code",
   "execution_count": 11,
   "metadata": {},
   "outputs": [],
   "source": [
    "def solve_sp_quorum_linear(m,k,lambd,R_0,b,d):\n",
    "    deg = 2*m\n",
    "    coeffs = [k*math.exp(-2*lambd*m*R_0)]+[0]*(m-1)+[(b**m)*math.exp(-lambd*m*R_0)*(2+d*lambd*m)]+[0]*(m-1)+[k*b**(2*m)]\n",
    "    return np.roots(coeffs)"
   ]
  },
  {
   "cell_type": "code",
   "execution_count": 23,
   "metadata": {},
   "outputs": [
    {
     "data": {
      "text/plain": [
       "array([-0.97485883+0.97485883j, -0.97485883-0.97485883j,\n",
       "        0.97485883+0.97485883j,  0.97485883-0.97485883j,\n",
       "       -0.13029177+0.13029177j, -0.13029177-0.13029177j,\n",
       "        0.13029177+0.13029177j,  0.13029177-0.13029177j])"
      ]
     },
     "execution_count": 23,
     "metadata": {},
     "output_type": "execute_result"
    }
   ],
   "source": [
    "solve_sp_quorum_linear(4,0.05,0.2,0.04,0.5,1)"
   ]
  },
  {
   "cell_type": "markdown",
   "metadata": {},
   "source": [
    "# Quorum fitness and exponentially decaying costs"
   ]
  },
  {
   "cell_type": "markdown",
   "metadata": {},
   "source": [
    "The payoff of a rare strategy y in a monomorphic resident population with strategy x is:\n",
    "\n",
    "$$F(y,x) = q(c_{y,x})c(y)$$,\n",
    "\n",
    "where $q,c: [0,1] \\rightarrow \\mathbb{R}$ is a quorum function of the type $q(x) = \\frac{x^m}{x^m+b^m}$ for $m\\geq2$ and for a treshold $b \\in [0,1]$ and $c(x)=e^{-kx^2}$ for $k \\in \\mathbb{R}$.\n",
    "\n",
    "By analytical derivation, we get to solve the following expression to find singular points\n",
    "\n",
    "$$p^{m+1} 2ke^{-\\lambda m R(0)} - p^2 k \\lambda m b^m d + p 2 k b^{m} + \\lambda m b^m d = 0$$"
   ]
  },
  {
   "cell_type": "code",
   "execution_count": 24,
   "metadata": {},
   "outputs": [],
   "source": [
    "def solve_sp_quorum_exp(m,k,lambd,R_0,b,d):\n",
    "    deg = m+1\n",
    "    coeffs = [2*k*math.exp(-lambd*m*R_0)]+[0]*(m-2)+[k*lambd*m*(b**m)*d,2*k*(b**m),lambd*m*(b**m)*d]\n",
    "    return np.roots(coeffs)"
   ]
  },
  {
   "cell_type": "code",
   "execution_count": 33,
   "metadata": {},
   "outputs": [
    {
     "data": {
      "text/plain": [
       "array([-6.93889390e-18+0.62665254j, -6.93889390e-18-0.62665254j,\n",
       "       -5.55111512e-17+0.40214952j, -5.55111512e-17-0.40214952j])"
      ]
     },
     "execution_count": 33,
     "metadata": {},
     "output_type": "execute_result"
    }
   ],
   "source": [
    "solve_sp_quorum_linear(2,1,0.1,0.04,0.5,1)"
   ]
  }
 ],
 "metadata": {
  "kernelspec": {
   "display_name": "Python 3",
   "language": "python",
   "name": "python3"
  },
  "language_info": {
   "codemirror_mode": {
    "name": "ipython",
    "version": 3
   },
   "file_extension": ".py",
   "mimetype": "text/x-python",
   "name": "python",
   "nbconvert_exporter": "python",
   "pygments_lexer": "ipython3",
   "version": "3.6.5"
  }
 },
 "nbformat": 4,
 "nbformat_minor": 2
}
