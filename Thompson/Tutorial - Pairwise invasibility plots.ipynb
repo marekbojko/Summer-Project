{
 "cells": [
  {
   "cell_type": "code",
   "execution_count": 1,
   "metadata": {},
   "outputs": [],
   "source": [
    "import numpy as np\n",
    "import scipy.optimize\n",
    "import matplotlib.pyplot as plt\n",
    "from functools import partial \n",
    "\n",
    "%matplotlib inline"
   ]
  },
  {
   "cell_type": "code",
   "execution_count": 2,
   "metadata": {},
   "outputs": [],
   "source": [
    "# Here are three interesting sets of parameters to explore. \n",
    "p_common = { \"b2\":0, 'd1':1,'d2':1,'K1':1,'K2':1,'mu':0.1,}\n",
    "p_neutral = {\"a1\": 1, \"b1\": 0, \"a2\":1, **p_common}\n",
    "p_strong = {\"a1\": 1, \"b1\": 1, \"a2\":2, **p_common}\n",
    "p_weak = {\"a1\": 2, \"b1\": -1, \"a2\":1, **p_common}"
   ]
  },
  {
   "cell_type": "code",
   "execution_count": 3,
   "metadata": {},
   "outputs": [],
   "source": [
    "def A(u, a, b):\n",
    "    \"\"\"Attack rate. Volume of prey cleared per unit of time.\n",
    "    Phenomenlogical model assuming a simple linear relationship between the time spent u\n",
    "    and the attack rate.\"\"\"\n",
    "    return a + b * u\n",
    "\n",
    "def F1_QSS(d, K, a, b, u1, N1, u2, N2):\n",
    "    \"\"\"Quasi-Steady state approximation of the density of prey in env 1.\"\"\"\n",
    "    return (d*K)/(A(u1, a, b)*u1*N1 + A(u2, a, b)*u2*N2 + d)\n",
    "\n",
    "def F2_QSS(d, K, a, b, u1, N1, u2, N2):\n",
    "    \"\"\"Quasi-Steady state approximation of the density of prey in env 2.\"\"\"\n",
    "    return (d*K)/(A(u1, a, b)*(1-u1)*N1 + A(u2, a, b)*(1-u2)*N2 + d)\n",
    "                 \n",
    "def beta(u, F1, F2, a1, b1, a2, b2):\n",
    "    \"\"\"Birth rate of a predator with trait u\"\"\"\n",
    "    return (  F1 * A(u, a1, b1) * u \n",
    "            + F2 * A(u, a2, b2) * (1-u)) \n",
    "            \n",
    "def growth_rate(N1, N2, u1, u2, a1, a2, b1, b2, K1, K2, d1, d2, mu):\n",
    "    \"\"\"Per capita growth rate of predator species N1 when the prey is at QSS\"\"\"\n",
    "    F1 = F1_QSS(d1, K1, a1, b1, u1, N1, u2, N2)\n",
    "    F2 = F2_QSS(d2, K2, a2, b2, u1, N1, u2, N2)\n",
    "    return beta(u1, F1, F2, a1, b1, a2, b2) - mu\n",
    "\n",
    "def n_star(r, a1, a2, b1, b2, K1, K2, d1, d2, mu):\n",
    "    \"\"\"Population size of the resident at equilibrium.\n",
    "    \n",
    "    The equilibrium of the resident is found by finding \n",
    "    its population size N* for which its growth rate is null. \n",
    "    \"\"\"\n",
    "    # Rough estimate used to initialise the optimisation algorithm.\n",
    "    estimate = (d1*K1+d2*K2)/mu\n",
    "    \n",
    "    # We fix the value of the other parameters before solving for N1.\n",
    "    resident_growth_rate = partial(growth_rate,\n",
    "                                   u1 = r,\n",
    "                                   N2=0, u2=0,\n",
    "                                   a1=a1, a2=a2, \n",
    "                                   b1=b1, b2=b2, \n",
    "                                   d1=d1, d2=d2,\n",
    "                                   K1=K1, K2=K2, \n",
    "                                   mu=mu)\n",
    "    return scipy.optimize.fsolve(resident_growth_rate,x0=estimate)\n",
    "    \n",
    "def invasion_fitness(m, r, a1, a2, b1, b2, d1, d2, K1, K2, mu):\n",
    "    \"\"\"Invasion fitness of a rare mutant type with trait m in a resident population\n",
    "    with trait r\"\"\"\n",
    "    \n",
    "    # Conpute the ecological equilibrium of the resident.\n",
    "    Nstar = n_star(r, a1, a2, b1, b2, K1, K2, d1, d2, mu)\n",
    "    \n",
    "    # Invasion fitness is the growth rate of a rare mutant (N=0, u=m)\n",
    "    # in a resident population at equilibrium (N=Nstar, u=r)\n",
    "    return growth_rate(N1=0, N2=Nstar, u1=m, u2=r, \n",
    "                       a1=a1, a2=a2, b1=b1, b2=b2, K1=K1, \n",
    "                       K2=K2, d1=d1, d2=d2, mu=mu)"
   ]
  },
  {
   "cell_type": "code",
   "execution_count": 5,
   "metadata": {},
   "outputs": [],
   "source": [
    "def compute_pip(steps, a1, a2, b1, b2, d1, d2, K1, K2, mu):\n",
    "    \"\"\"Return 3 matrices of size step X step:\n",
    "    R: Resident population trait (constant on each column, go from 0 to 1 in the first and last column).\n",
    "    M: Mutant population trait (constant on each line, go from 0 to 1 between the first and last line)\n",
    "    PIP: Corresponding invasion fitness.\"\"\"\n",
    "    \n",
    "    # Fill the R, M matrices with evenly spaced values in [0,1]. \n",
    "    R,M = np.meshgrid(np.linspace(0,1,steps),\n",
    "                      np.linspace(0,1,steps))\n",
    "    \n",
    "    # Python tip: An efficient way to compute a multiple variable function over a domain\n",
    "    # is to convert it to a \"broadcastable function\" that can be applied to multiple values at \n",
    "    # once. Here I do it with np.frompyfunc.\n",
    "    # https://docs.scipy.org/doc/numpy/reference/ufuncs.html?highlight=ufunc for more info.\n",
    "    #\n",
    "    # An alternative is to loop over all values in my input matrices \n",
    "    # M and R and fill the PIP matrix one element at a time.\n",
    "    s = partial(invasion_fitness, a1=a1, a2=a2,\n",
    "                                  b1=b1, b2=b2,\n",
    "                                  d1=d1, d2=d2,\n",
    "                                  K1=K1, K2=K2,\n",
    "                                  mu=mu)\n",
    "    s = np.frompyfunc(s, 2, 1)\n",
    "    PIP = s(M, R)\n",
    "    return R, M, PIP\n",
    "\n",
    "def display_pip(PIP, R, M, ax=None):\n",
    "    \"\"\"Use matplotlib to display the PIP\"\"\"\n",
    "    if ax is None:\n",
    "        fig, ax = plt.subplots(1,1, figsize=(5,5))\n",
    "    m = ax.contourf(R, M, PIP, \n",
    "                levels=[PIP.min(),0,PIP.max()],\n",
    "                colors=['w','k'])\n",
    "    ax.set(title='Pairwise invasibility plot', \n",
    "       ylabel='Mutant trait m',\n",
    "       xlabel='resident trait r')"
   ]
  },
  {
   "cell_type": "code",
   "execution_count": 6,
   "metadata": {},
   "outputs": [
    {
     "data": {
      "image/png": "[encoded data removed]",
      "text/plain": [
       "<Figure size 360x360 with 1 Axes>"
      ]
     },
     "metadata": {
      "needs_background": "light"
     },
     "output_type": "display_data"
    }
   ],
   "source": [
    "R, M, PIP = compute_pip(100,**p_strong)\n",
    "display_pip(PIP, R, M)"
   ]
  }
 ],
 "metadata": {
  "kernelspec": {
   "display_name": "Python 3",
   "language": "python",
   "name": "python3"
  },
  "language_info": {
   "codemirror_mode": {
    "name": "ipython",
    "version": 3
   },
   "file_extension": ".py",
   "mimetype": "text/x-python",
   "name": "python",
   "nbconvert_exporter": "python",
   "pygments_lexer": "ipython3",
   "version": "3.6.5"
  }
 },
 "nbformat": 4,
 "nbformat_minor": 2
}
