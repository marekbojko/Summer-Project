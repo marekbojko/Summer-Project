{
 "cells": [
  {
   "cell_type": "code",
   "execution_count": null,
   "metadata": {
    "collapsed": true
   },
   "outputs": [],
   "source": [
    "from evolving_comm_network import *"
   ]
  },
  {
   "cell_type": "code",
   "execution_count": null,
   "metadata": {
    "collapsed": true
   },
   "outputs": [],
   "source": [
    "P = Simulation(15, 60, bernoulli_arms, discounted_thompson,10,const=False)\n",
    "\n",
    "P.plot_data(\"PD\")"
   ]
  }
 ],
 "metadata": {
  "anaconda-cloud": {},
  "kernelspec": {
   "display_name": "Python [conda env:Anaconda3]",
   "language": "python",
   "name": "conda-env-Anaconda3-py"
  }
 },
 "nbformat": 4,
 "nbformat_minor": 1
}
