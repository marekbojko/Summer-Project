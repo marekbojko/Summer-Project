{
 "cells": [
  {
   "cell_type": "code",
   "execution_count": 2,
   "metadata": {},
   "outputs": [],
   "source": [
    "import numpy as np\n",
    "from scipy.integrate import odeint\n",
    "from scipy.integrate import RK45"
   ]
  },
  {
   "cell_type": "code",
   "execution_count": 3,
   "metadata": {},
   "outputs": [
    {
     "name": "stdout",
     "output_type": "stream",
     "text": [
      "[0. 0.]\n",
      "[2.5e-05 2.5e-05]\n"
     ]
    }
   ],
   "source": [
    "def simplem(t,y):\n",
    "    ydot = np.empty(2)\n",
    "    \n",
    "    print(y)\n",
    "    \n",
    "    ydot[0] = (y[0]+5)**2\n",
    "    ydot[1] = (y[1]+5)**2\n",
    "    return ydot\n",
    "\n",
    "# Initial position at the origin\n",
    "Y0 = np.array([0,0])\n",
    "\n",
    "solution = RK45(simplem,t0 = 0.0, y0 = Y0, t_bound = 1)"
   ]
  },
  {
   "cell_type": "code",
   "execution_count": 4,
   "metadata": {},
   "outputs": [
    {
     "name": "stdout",
     "output_type": "stream",
     "text": [
      "[0.0005 0.0005]\n",
      "[0.00075011 0.00075011]\n",
      "[0.0020008 0.0020008]\n",
      "[0.00222321 0.00222321]\n",
      "[0.00250125 0.00250125]\n",
      "[0.00250125 0.00250125]\n",
      "[0.00250125 0.00250125]\n",
      "[0.00250125 0.00250125]\n",
      "9.999999999999999e-05\n"
     ]
    }
   ],
   "source": [
    "solution.step()\n",
    "print (solution.y)\n",
    "solution.dense_output()\n",
    "print (solution.y)\n",
    "print (solution.t)"
   ]
  },
  {
   "cell_type": "code",
   "execution_count": 6,
   "metadata": {},
   "outputs": [],
   "source": [
    "y0 = np.array([1,2,3])"
   ]
  },
  {
   "cell_type": "code",
   "execution_count": 9,
   "metadata": {},
   "outputs": [
    {
     "data": {
      "text/plain": [
       "3"
      ]
     },
     "execution_count": 9,
     "metadata": {},
     "output_type": "execute_result"
    }
   ],
   "source": [
    "y0.size"
   ]
  },
  {
   "cell_type": "code",
   "execution_count": 10,
   "metadata": {},
   "outputs": [
    {
     "data": {
      "text/plain": [
       "array([4, 5, 6])"
      ]
     },
     "execution_count": 10,
     "metadata": {},
     "output_type": "execute_result"
    }
   ],
   "source": [
    "y0 + 3"
   ]
  }
 ],
 "metadata": {
  "kernelspec": {
   "display_name": "Python 3",
   "language": "python",
   "name": "python3"
  },
  "language_info": {
   "codemirror_mode": {
    "name": "ipython",
    "version": 3
   },
   "file_extension": ".py",
   "mimetype": "text/x-python",
   "name": "python",
   "nbconvert_exporter": "python",
   "pygments_lexer": "ipython3",
   "version": "3.6.5"
  }
 },
 "nbformat": 4,
 "nbformat_minor": 2
}
