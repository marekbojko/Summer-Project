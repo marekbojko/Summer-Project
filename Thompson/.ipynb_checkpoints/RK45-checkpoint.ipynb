{
 "cells": [
  {
   "cell_type": "code",
   "execution_count": 8,
   "metadata": {},
   "outputs": [],
   "source": [
    "import numpy as np\n",
    "from scipy.integrate import odeint\n",
    "from scipy.integrate import RK45"
   ]
  },
  {
   "cell_type": "code",
   "execution_count": 112,
   "metadata": {},
   "outputs": [
    {
     "name": "stdout",
     "output_type": "stream",
     "text": [
      "[0. 0.]\n",
      "[2.5e-05 2.5e-05]\n"
     ]
    }
   ],
   "source": [
    "def simplem(t,y):\n",
    "    ydot = np.empty(2)\n",
    "    \n",
    "    print(y)\n",
    "    \n",
    "    ydot[0] = (y[0]+5)**2\n",
    "    ydot[1] = (y[1]+5)**2\n",
    "    return ydot\n",
    "\n",
    "# Initial position at the origin\n",
    "Y0 = np.array([0,0])\n",
    "\n",
    "solution = RK45(simplem,t0 = 0.0, y0 = Y0, t_bound = 1)"
   ]
  },
  {
   "cell_type": "code",
   "execution_count": 117,
   "metadata": {},
   "outputs": [
    {
     "name": "stdout",
     "output_type": "stream",
     "text": [
      "[4.01962396 4.01962396]\n",
      "[4.87224335 4.87224335]\n",
      "[11.61314727 11.61314727]\n",
      "[12.9680186 12.9680186]\n",
      "[16.33507681 16.33507681]\n",
      "[18.18377496 18.18377496]\n",
      "[3.68208973 3.68208973]\n",
      "[4.18474825 4.18474825]\n",
      "[7.47269485 7.47269485]\n",
      "[8.38430134 8.38430134]\n",
      "[9.42507348 9.42507348]\n",
      "[9.35656113 9.35656113]\n",
      "[9.35656113 9.35656113]\n",
      "[9.35656113 9.35656113]\n",
      "0.13034349372770787\n"
     ]
    }
   ],
   "source": [
    "solution.step()\n",
    "print (solution.y)\n",
    "solution.dense_output()\n",
    "print (solution.y)\n",
    "print (solution.t)"
   ]
  },
  {
   "cell_type": "code",
   "execution_count": null,
   "metadata": {},
   "outputs": [],
   "source": []
  }
 ],
 "metadata": {
  "kernelspec": {
   "display_name": "Python 3",
   "language": "python",
   "name": "python3"
  },
  "language_info": {
   "codemirror_mode": {
    "name": "ipython",
    "version": 3
   },
   "file_extension": ".py",
   "mimetype": "text/x-python",
   "name": "python",
   "nbconvert_exporter": "python",
   "pygments_lexer": "ipython3",
   "version": "3.6.5"
  }
 },
 "nbformat": 4,
 "nbformat_minor": 2
}
