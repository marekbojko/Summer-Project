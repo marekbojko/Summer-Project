{
 "cells": [
  {
   "cell_type": "markdown",
   "metadata": {},
   "source": [
    "# Exercise 4"
   ]
  },
  {
   "cell_type": "code",
   "execution_count": 2,
   "metadata": {
    "collapsed": true
   },
   "outputs": [],
   "source": [
    "%matplotlib inline\n",
    "\n",
    "import numpy as np\n",
    "import matplotlib.pyplot as plt\n",
    "import matplotlib.animation as animation\n",
    "\n",
    "from matplotlib import rc\n",
    "rc('animation', html='jshtml')"
   ]
  },
  {
   "cell_type": "markdown",
   "metadata": {},
   "source": [
    "Create an array of random cells (1=live,0=dead) to initiate the grid"
   ]
  },
  {
   "cell_type": "code",
   "execution_count": 5,
   "metadata": {
    "collapsed": false
   },
   "outputs": [
    {
     "name": "stdout",
     "output_type": "stream",
     "text": [
      "[[1 1 0 ..., 1 1 0]\n",
      " [1 1 0 ..., 0 0 0]\n",
      " [0 0 1 ..., 0 1 1]\n",
      " ..., \n",
      " [1 1 0 ..., 1 0 0]\n",
      " [1 0 0 ..., 1 1 1]\n",
      " [0 1 1 ..., 1 1 0]]\n"
     ]
    }
   ],
   "source": [
    "game_grid = np.random.randint(2, size=(200, 200), dtype=np.uint8)\n",
    "print(game_grid)"
   ]
  },
  {
   "cell_type": "markdown",
   "metadata": {},
   "source": [
    "Implement the rules of the game"
   ]
  },
  {
   "cell_type": "code",
   "execution_count": 3,
   "metadata": {
    "collapsed": false
   },
   "outputs": [],
   "source": [
    "def game_of_life(grid):\n",
    "    \"\"\"\n",
    "    Implements the rule of the Game of Life given an initial configuration.\n",
    "    \n",
    "    initial_grid - a square grid of 1's and 0's\n",
    "    \"\"\"\n",
    "\n",
    "    # create a grid on which the rules will be imposed\n",
    "    # initiate its state to 0 everywhere\n",
    "\n",
    "    rows, cols = grid.shape\n",
    "    \n",
    "    implemented_grid = np.zeros([rows,cols])\n",
    "\n",
    "    # implement the rule\n",
    "    for i in range(rows):\n",
    "        for j in range(cols):\n",
    "\n",
    "            # get the state of the central cell in a square\n",
    "            state = grid[i,j] \n",
    "\n",
    "            # get the state of the cells in the 3x3 neighbourhood excluding the central cell\n",
    "            live_neighbours = (grid[i, (j-1)%cols] + grid[i, (j+1)%cols] + \n",
    "               grid[(i-1)%rows, j] + grid[(i+1)%rows, j] + \n",
    "               grid[(i-1)%rows, (j-1)%cols] + grid[(i-1)%rows, (j+1)%cols] + \n",
    "               grid[(i+1)%rows, (j-1)%cols] + grid[(i+1)%rows, (j+1)%cols])\n",
    "\n",
    "            if state:\n",
    "                if live_neighbours == 2 or live_neighbours == 3:\n",
    "                    implemented_grid[i, j] = 1\n",
    "            else:\n",
    "                if live_neighbours == 3:\n",
    "                    implemented_grid[i, j] = 1\n",
    "\n",
    "    return implemented_grid"
   ]
  },
  {
   "cell_type": "markdown",
   "metadata": {},
   "source": [
    "Create a visualisation "
   ]
  },
  {
   "cell_type": "code",
   "execution_count": 6,
   "metadata": {
    "collapsed": false
   },
   "outputs": [],
   "source": [
    "def visualise_gol(grid):\n",
    "    plt.clf()\n",
    "    plt.axis(\"off\")\n",
    "    plt.imshow(grid, cmap='binary')\n",
    "    plt.show()"
   ]
  },
  {
   "cell_type": "markdown",
   "metadata": {},
   "source": [
    "Test using the test object"
   ]
  },
  {
   "cell_type": "code",
   "execution_count": 7,
   "metadata": {
    "collapsed": false
   },
   "outputs": [
    {
     "data": {
      "image/png": "[encoded data removed]",
      "text/plain": [
       "<Figure size 432x288 with 1 Axes>"
      ]
     },
     "metadata": {},
     "output_type": "display_data"
    }
   ],
   "source": [
    "test_object = np.array([[0, 1, 0], [0, 0, 1],[1, 1, 1]])\n",
    "\n",
    "visualise_gol(test_object)"
   ]
  },
  {
   "cell_type": "code",
   "execution_count": 119,
   "metadata": {
    "collapsed": false
   },
   "outputs": [],
   "source": [
    "def animation_gol(grid, seed_array, seed_position, quality=200, cmap=\"Purples\", n_generations=50, interval=300):\n",
    "    \n",
    "    # Initialise the grid and seed\n",
    "    x_start, y_start = seed_position[0], seed_position[1]\n",
    "    x_end, y_end = x_start + seed_array.shape[0], y_start + seed_array.shape[1]\n",
    "    grid[x_start:x_end, y_start:y_end] = seed_array\n",
    "\n",
    "    # Animate the game\n",
    "    fig = plt.figure(dpi=quality)\n",
    "    plt.axis(\"off\")\n",
    "    ims = []\n",
    "    for i in range(n_generations):\n",
    "        ims.append((plt.imshow(grid, cmap=cmap),))\n",
    "        grid = game_of_life(grid)\n",
    "    im_ani = animation.ArtistAnimation(fig, ims, interval=interval, repeat_delay=3000, blit=True)"
   ]
  },
  {
   "cell_type": "code",
   "execution_count": 120,
   "metadata": {
    "collapsed": false
   },
   "outputs": [
    {
     "data": {
      "image/png": "[encoded data removed]",
      "text/plain": [
       "<Figure size 1200x800 with 1 Axes>"
      ]
     },
     "metadata": {},
     "output_type": "display_data"
    }
   ],
   "source": [
    "animation_gol(game_grid,test_object,(1,1))"
   ]
  }
 ],
 "metadata": {
  "anaconda-cloud": {},
  "kernelspec": {
   "display_name": "Python [conda env:Anaconda3]",
   "language": "python",
   "name": "conda-env-Anaconda3-py"
  },
  "language_info": {
   "codemirror_mode": {
    "name": "ipython",
    "version": 3
   },
   "file_extension": ".py",
   "mimetype": "text/x-python",
   "name": "python",
   "nbconvert_exporter": "python",
   "pygments_lexer": "ipython3",
   "version": "3.5.5"
  }
 },
 "nbformat": 4,
 "nbformat_minor": 1
}
