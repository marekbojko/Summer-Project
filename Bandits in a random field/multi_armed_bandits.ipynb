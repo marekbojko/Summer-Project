{
 "cells": [
  {
   "cell_type": "markdown",
   "metadata": {},
   "source": [
    "# Multi-Armed Bandits"
   ]
  },
  {
   "cell_type": "code",
   "execution_count": 297,
   "metadata": {
    "collapsed": true
   },
   "outputs": [],
   "source": [
    "# Imports\n",
    "%matplotlib inline\n",
    "\n",
    "import sys\n",
    "import numpy as np\n",
    "import scipy\n",
    "import scipy.stats as stats\n",
    "import matplotlib\n",
    "import matplotlib.pyplot as plt\n",
    "import seaborn as sns\n",
    "from random import gauss\n",
    "from numpy.random import standard_normal\n",
    "from scipy.special import erf\n",
    "import math\n",
    "from scipy.stats import norm\n",
    "import random\n",
    "from scipy.stats import bernoulli\n",
    "import scipy.fftpack\n",
    "from IPython import display\n",
    "\n",
    "sns.set_style('darkgrid')\n",
    "np.random.seed(0)\n",
    "#"
   ]
  },
  {
   "cell_type": "markdown",
   "metadata": {},
   "source": [
    "# Set-up"
   ]
  },
  {
   "cell_type": "markdown",
   "metadata": {},
   "source": [
    "## Create an arm"
   ]
  },
  {
   "cell_type": "markdown",
   "metadata": {},
   "source": [
    "**Create an arm**"
   ]
  },
  {
   "cell_type": "code",
   "execution_count": 52,
   "metadata": {
    "collapsed": false
   },
   "outputs": [],
   "source": [
    "\"\"\" Base class for an arm class.\"\"\"\n",
    "\n",
    "class Arm(object):\n",
    "    \"\"\" Base class for an arm class.\"\"\"\n",
    "    \n",
    "    def __init__(self, lower=0., amplitude=1.):\n",
    "        \"\"\" Base class for an arm class.\"\"\"\n",
    "        self.lower = lower  #: Lower value of rewards\n",
    "        self.amplitude = amplitude  #: Amplitude of value of rewards\n",
    "        self.min = lower  #: Lower value of rewards\n",
    "        self.max = lower + amplitude  #: Higher value of rewards\n",
    "\n",
    "    # make this an attribute\n",
    "    @property\n",
    "    def lower_amplitude(self):\n",
    "        \"\"\"(lower, amplitude)\"\"\"\n",
    "        if hasattr(self, 'lower') and hasattr(self, 'amplitude'):\n",
    "            return self.lower, self.amplitude\n",
    "        elif hasattr(self, 'min') and hasattr(self, 'max'):\n",
    "            return self.min, self.max - self.min\n",
    "        else:\n",
    "            raise NotImplementedError(\"This method lower_amplitude() has to be implemented in the class inheriting from Arm.\")\n",
    "\n",
    "                                      \n",
    "    def __str__(self):\n",
    "        return self.__class__.__name__\n",
    "\n",
    "    def __repr__(self):\n",
    "        return \"{}({})\".format(self.__class__.__name__, self.__dir__)\n",
    "\n",
    "                                      \n",
    "                                      \n",
    "    #### Random samples\n",
    "\n",
    "    def draw(self, t=None):\n",
    "        \"\"\" Draw one random sample.\"\"\"\n",
    "        raise NotImplementedError(\"This method draw(t) has to be implemented in the class inheriting from Arm.\")\n",
    "\n",
    "    def draw_nparray(self, shape=(1,)):\n",
    "        \"\"\" Draw a numpy array of random samples, of a certain shape.\"\"\"\n",
    "        raise NotImplementedError(\"This method draw_nparray(t) has to be implemented in the class inheriting from Arm.\")\n",
    "\n",
    "                                      \n",
    "                                      \n",
    "    #### Lower bound\n",
    "\n",
    "    @staticmethod\n",
    "    def kl(x, y):\n",
    "        \"\"\" The kl(x, y) to use for this arm.\"\"\"\n",
    "        raise NotImplementedError(\"This method kl(x, y) has to be implemented in the class inheriting from Arm.\")\n",
    "\n",
    "    @staticmethod\n",
    "    def oneLR(mumax, mu):\n",
    "        \"\"\" One term of the Lai & Robbins lower bound for Gaussian arms: (mumax - mu) / KL(mu, mumax). \"\"\"\n",
    "        raise NotImplementedError(\"This method oneLR(mumax, mu) has to be implemented in the class inheriting from Arm.\")\n",
    "\n",
    "    @staticmethod\n",
    "    def oneHOI(mumax, mu):\n",
    "        \"\"\" One term for the HOI factor for this arm.\"\"\"\n",
    "        return 1 - (mumax - mu)"
   ]
  },
  {
   "cell_type": "markdown",
   "metadata": {},
   "source": [
    "**Create an arm with a Gaussian distribution**"
   ]
  },
  {
   "cell_type": "code",
   "execution_count": 53,
   "metadata": {
    "collapsed": true
   },
   "outputs": [],
   "source": [
    "oo = float('+inf') #+infinity\n",
    "\n",
    "#: Default value for the variance of a [0, 1] Gaussian arm\n",
    "VARIANCE = 0.05"
   ]
  },
  {
   "cell_type": "code",
   "execution_count": 54,
   "metadata": {
    "collapsed": false
   },
   "outputs": [
    {
     "name": "stdout",
     "output_type": "stream",
     "text": [
      "\n",
      "Testing automatically all the docstring written in each functions of this module :\n",
      "32 items had no tests:\n",
      "    __main__\n",
      "    __main__.Arm\n",
      "    __main__.Arm.__init__\n",
      "    __main__.Arm.__repr__\n",
      "    __main__.Arm.__str__\n",
      "    __main__.Arm.draw\n",
      "    __main__.Arm.draw_nparray\n",
      "    __main__.Arm.kl\n",
      "    __main__.Arm.lower_amplitude\n",
      "    __main__.Arm.oneHOI\n",
      "    __main__.Arm.oneLR\n",
      "    __main__.Gaussian\n",
      "    __main__.Gaussian.__init__\n",
      "    __main__.Gaussian.__repr__\n",
      "    __main__.Gaussian.__str__\n",
      "    __main__.Gaussian.draw\n",
      "    __main__.Gaussian.draw_nparray\n",
      "    __main__.Gaussian.lower_amplitude\n",
      "    __main__.Gaussian.oneHOI\n",
      "    __main__.Gaussian_0_1\n",
      "    __main__.Gaussian_0_1.__init__\n",
      "    __main__.Phi\n",
      "    __main__.UnboundedGaussian\n",
      "    __main__.UnboundedGaussian.__init__\n",
      "    __main__.UnboundedGaussian.__repr__\n",
      "    __main__.UnboundedGaussian.__str__\n",
      "    __main__.UnboundedGaussian.draw\n",
      "    __main__.UnboundedGaussian.draw_nparray\n",
      "    __main__.fftind\n",
      "    __main__.gaussian_random_field\n",
      "    __main__.phi\n",
      "    __main__.thompson\n",
      "0 tests in 32 items.\n",
      "0 passed and 0 failed.\n",
      "Test passed.\n"
     ]
    }
   ],
   "source": [
    "class Gaussian(Arm):\n",
    "    \"\"\"\n",
    "    Gaussian distributed arm, possibly truncated.\n",
    "    Default is to truncate into [0, 1] (so Gaussian.draw() is in [0, 1]).\n",
    "    \"\"\"\n",
    "\n",
    "    def __init__(self, mu, sigma=VARIANCE, mini=0, maxi=1):\n",
    "        \"\"\"New arm.\"\"\"\n",
    "        self.mu = self.mean = mu  #: Mean of Gaussian arm\n",
    "        assert sigma > 0, \"Error, the parameter 'sigma' for Gaussian arm has to be > 0.\"\n",
    "        self.sigma = sigma  #: Variance of Gaussian arm\n",
    "        assert mini <= maxi, \"Error, the parameter 'mini' for Gaussian arm has to < 'maxi'.\"  # DEBUG\n",
    "        self.min = mini  #: Lower value of rewards\n",
    "        self.max = maxi  #: Higher value of rewards\n",
    "        real_mean = mu + sigma * (phi(mini) - phi(maxi)) / (Phi(maxi) - Phi(mini))\n",
    "\n",
    "        \n",
    "    #### Random samples\n",
    "\n",
    "    def draw(self, t=None):\n",
    "        \"\"\" Draw one random sample. The parameter t is ignored in this Arm.\"\"\"\n",
    "        return min(max(gauss(self.mu, self.sigma), self.min), self.max)\n",
    "\n",
    "    def draw_nparray(self, shape=(1,)):\n",
    "        \"\"\" Draw a numpy array of random samples, of a certain shape.\"\"\"\n",
    "        return np.minimum(np.maximum(self.mu + self.sigma * standard_normal(shape), self.min), self.max)\n",
    "\n",
    "    \n",
    "    #### Printing\n",
    "\n",
    "    # This decorator @property makes this method an attribute, cf. https://docs.python.org/3/library/functions.html#property\n",
    "    @property\n",
    "    def lower_amplitude(self):\n",
    "        \"\"\"(lower, amplitude)\"\"\"\n",
    "        return self.min, self.max - self.min\n",
    "\n",
    "    def __str__(self):\n",
    "        return \"Gaussian\"\n",
    "\n",
    "    def __repr__(self):\n",
    "        return \"N({:.3g}, {:.3g})\".format(self.mu, self.sigma)\n",
    "\n",
    "    \n",
    "    #### Lower bound - NEED TO IMPLEMENT KULLBACK-LEIBLER DIVERGENCE FOR GAUSSIAN DISTRIBUTION FIRST\n",
    "    if False:\n",
    "        def kl(self, x, y):\n",
    "            \"\"\" The kl(x, y) to use for this arm.\"\"\"\n",
    "            return klGauss(x, y, self.sigma)\n",
    "\n",
    "        def oneLR(self, mumax, mu):\n",
    "            \"\"\" One term of the Lai & Robbins lower bound for Gaussian arms: (mumax - mu) / KL(mu, mumax). \"\"\"\n",
    "            return (mumax - mu) / klGauss(mu, mumax, self.sigma)\n",
    "    \n",
    "    def oneHOI(self, mumax, mu):\n",
    "        \"\"\" One term for the HOI factor for this arm.\"\"\"\n",
    "        return 1 - (mumax - mu) / self.max\n",
    "\n",
    "\n",
    "class Gaussian_0_1(Gaussian):\n",
    "    \"\"\" Gaussian distributed arm, truncated to [0, 1].\"\"\"\n",
    "    def __init__(self, mu, sigma=0.05, mini=0, maxi=1):\n",
    "        super(Gaussian_0_1, self).__init__(mu, sigma=sigma, mini=mini, maxi=maxi)\n",
    "\n",
    "\n",
    "\n",
    "#: Default value for the variance of an unbounded Gaussian arm\n",
    "UNBOUNDED_VARIANCE = 1\n",
    "\n",
    "\n",
    "class UnboundedGaussian(Gaussian):\n",
    "    \"\"\" Gaussian distributed arm, not truncated, ie. supported in (-oo,  oo).\"\"\"\n",
    "\n",
    "    def __init__(self, mu, sigma=UNBOUNDED_VARIANCE):\n",
    "        \"\"\"New arm.\"\"\"\n",
    "        super(UnboundedGaussian, self).__init__(mu, sigma=sigma, mini=-oo, maxi=oo)\n",
    "\n",
    "    def __str__(self):\n",
    "        return \"UnboundedGaussian\"\n",
    "\n",
    "    #### Random samples\n",
    "\n",
    "    def draw(self, t=None):\n",
    "        \"\"\" Draw one random sample. The parameter t is ignored in this Arm.\"\"\"\n",
    "        return gauss(self.mu, self.sigma)\n",
    "\n",
    "    def draw_nparray(self, shape=(1,)):\n",
    "        \"\"\" Draw a numpy array of random samples, of a certain shape.\"\"\"\n",
    "        return self.mu + self.sigma * standard_normal(shape)\n",
    "\n",
    "    def __repr__(self):\n",
    "        return \"N({:.3g}, {:.3g})\".format(self.mu, self.sigma)\n",
    "\n",
    "\n",
    "    \n",
    "def phi(xi):\n",
    "    \"\"\"\n",
    "    the probability density function of the standard normal distribution\n",
    "    \"\"\"\n",
    "    return np.exp(- 0.5 * xi**2) / np.sqrt(2. * np.pi)\n",
    "\n",
    "\n",
    "def Phi(x):\n",
    "    \"\"\"\n",
    "    It is the probability density function of the standard normal distribution\n",
    "    \"\"\"\n",
    "    return (1. + erf(x / np.sqrt(2.))) / 2.\n",
    "    \n",
    "    \n",
    "# Only export and expose the classes defined here\n",
    "__all__ = [\n",
    "    \"Gaussian\",\n",
    "    \"Gaussian_0_1\",\n",
    "    \"UnboundedGaussian\"\n",
    "]\n",
    "\n",
    "\n",
    "#### Debugging\n",
    "\n",
    "if __name__ == \"__main__\":\n",
    "    # Code for debugging purposes.\n",
    "    from doctest import testmod\n",
    "    print(\"\\nTesting automatically all the docstring written in each functions of this module :\")\n",
    "    testmod(verbose=True)"
   ]
  },
  {
   "cell_type": "code",
   "execution_count": 55,
   "metadata": {
    "collapsed": false
   },
   "outputs": [
    {
     "name": "stdout",
     "output_type": "stream",
     "text": [
      "0.7708577023403322\n",
      "-0.39828905235057493\n",
      "-0.03985722403921055\n",
      "0.4852517837303299\n",
      "-0.2081744470940355\n",
      "0.2639399886074643\n",
      "0.38959824363742845\n",
      "-0.1155496076354941\n",
      "-0.35451868222967936\n",
      "0.39694387062455205\n",
      "[0.5014355699897972, 0.7438247514842861, 0.6148801905246768, 2.0793952183745663, 1.1622029801807736, 0.4813466937549, 0.6710584895506947, -0.41658113896077986, -0.4132935713546396, 0.25752986074332074]\n"
     ]
    }
   ],
   "source": [
    "random.seed(0); np.random.seed(0)\n",
    "\n",
    "my_arm = Arm()\n",
    "\n",
    "\n",
    "\n",
    "my_gaussian = Gaussian(0.3,0.5)\n",
    "\n",
    "for i in range(10):\n",
    "    print (gauss(0.3,0.5))\n",
    "    \n",
    "l = [gauss(random.random(),0.5) for i in range(10)]\n",
    "\n",
    "print (l)"
   ]
  },
  {
   "cell_type": "code",
   "execution_count": 56,
   "metadata": {
    "collapsed": false
   },
   "outputs": [
    {
     "name": "stdout",
     "output_type": "stream",
     "text": [
      "[N(0.477, 0.05), N(0.865, 0.05), N(0.26, 0.05), N(0.805, 0.05), N(0.549, 0.05), N(0.014, 0.05), N(0.72, 0.05), N(0.399, 0.05), N(0.825, 0.05), N(0.668, 0.05)]\n"
     ]
    }
   ],
   "source": [
    "gaus01 = Gaussian_0_1(0.5,0.2)\n",
    "\n",
    "l = [Gaussian_0_1(random.random()) for i in range(10)]\n",
    "\n",
    "print (l)\n"
   ]
  },
  {
   "cell_type": "markdown",
   "metadata": {},
   "source": [
    "# Implementing policies"
   ]
  },
  {
   "cell_type": "markdown",
   "metadata": {},
   "source": [
    "See https://arxiv.org/pdf/1307.6134.pdf, page 22 and 23"
   ]
  },
  {
   "cell_type": "markdown",
   "metadata": {},
   "source": [
    "** Deterministic UCL algorithm**"
   ]
  },
  {
   "cell_type": "code",
   "execution_count": 280,
   "metadata": {
    "collapsed": false
   },
   "outputs": [],
   "source": [
    "def deterministic_ucl(prior_means,prior_variance,variance,n_arms,time_horizon,arms,random_rewards=True):\n",
    "    \"\"\"\n",
    "    Inputs: \n",
    "    prior_means - an array of prior means about the pay-offs of the arms\n",
    "    prior_variance - prior variance characterising the prior Gaussian distribution, constant for all arms\n",
    "    variance - variance of Gaussian distributions of each arm, constant for all arms, assumed known before the game begins\n",
    "    n_arms - number of arms of the MAB\n",
    "    time_horizon - number of time steps of the game\n",
    "    arms - a list or array of arms together with their reward distribution\n",
    "    \n",
    "    Output : allocation sequence of arms over the time horizon\n",
    "    \"\"\"\n",
    "    \n",
    "    #### Initialisation\n",
    "    \n",
    "    # n[i] denotes the number of pulls of the arm i in t-1 peridos\n",
    "    n = np.zeros(n_arms)\n",
    "    \n",
    "    # m_bar[i] denotes the mean pay-off as observed in t-1 periods\n",
    "    m_bar = np.zeros(n_arms)\n",
    "    \n",
    "    # normalise variance\n",
    "    delta_sq = variance / prior_variance\n",
    "    \n",
    "    # K is a tuner variable\n",
    "    K = math.sqrt(2*math.pi*math.e)\n",
    "    \n",
    "    # rewards array\n",
    "    rewards = np.zeros(time_horizon)\n",
    "    \n",
    "    # allocation sequence (output)\n",
    "    alloc_seq = np.zeros(time_horizon)\n",
    "    \n",
    "    # initialise the values of the heuristic function for each arm\n",
    "    Q = np.zeros(n_arms)\n",
    "    \n",
    "    #### Iteration\n",
    "    # at each time pick the arm with maximum upper credible limit (UCL)\n",
    "    for t in range(time_horizon):\n",
    "        \n",
    "        if random_rewards==True:\n",
    "            # initialise a list of rewards\n",
    "            all_rewards = [arms[i].draw() for i in range(n_arms)]\n",
    "        else:\n",
    "            all_rewards = arms\n",
    "        \n",
    "        for i in range(n_arms):\n",
    "            # Compute a heuristic value for the current arm\n",
    "            Q[i] = (delta_sq*prior_means[i]+n[i]*m_bar[i])/(delta_sq+n[i]) + (math.sqrt(variance/(delta_sq+n[i])))*norm.ppf(1-1/(K*(t+1)))\n",
    "        \n",
    "        #print(\"Q:\",Q)\n",
    "        #print('argmaxQ:',np.argmax(Q),'maxQ:',np.max(Q))\n",
    "        \n",
    "        # select an arm with the highest heuristic function value\n",
    "        selected_arm = np.argmax(Q)\n",
    "        alloc_seq[t] = selected_arm\n",
    "        \n",
    "        \n",
    "        # collect reward m_real\n",
    "        rewards[t] = all_rewards[selected_arm]\n",
    "        \n",
    "        #print ('all rewards:', all_rewards)\n",
    "        \n",
    "        # update variables\n",
    "        m_bar[selected_arm] = (n[selected_arm]*m_bar[selected_arm] + all_rewards[selected_arm]) / (n[selected_arm] + 1)\n",
    "        n[selected_arm] += 1\n",
    "        \n",
    "        #print ('m_bar:',m_bar)\n",
    "        #print ('n:',n)\n",
    "    \n",
    "    return alloc_seq"
   ]
  },
  {
   "cell_type": "code",
   "execution_count": 244,
   "metadata": {
    "collapsed": false
   },
   "outputs": [
    {
     "name": "stdout",
     "output_type": "stream",
     "text": [
      "[0.2267303068611829, 0.9884641913767884, 0.9320839704500764, 0.8607582358944526, 0.708660603904871, 0.25339362300409407, 0.9266405325433711, 0.8226150536819123, 0.6339284115538394, 0.17095267398225444]\n",
      "Q: [ 0.72168904  1.48342292  1.4270427   1.35571697  1.20361934  0.74835235\n",
      "  1.42159926  1.31757379  1.12888714  0.66591141]\n",
      "argmaxQ: 1 maxQ: 1.48342292294\n",
      "all rewards: [0.0, 0.1, 0.2, 0.3, 0.4, 0.5, 0.6, 0.7, 0.8, 0.9]\n",
      "m_bar: [ 0.   0.1  0.   0.   0.   0.   0.   0.   0.   0. ]\n",
      "n: [ 0.  1.  0.  0.  0.  0.  0.  0.  0.  0.]\n",
      "Q: [ 1.05409839  0.43023033  1.75945205  1.68812631  1.53602868  1.0807617\n",
      "  1.75400861  1.64998313  1.46129649  0.99832075]\n",
      "argmaxQ: 2 maxQ: 1.75945204924\n",
      "all rewards: [0.0, 0.1, 0.2, 0.3, 0.4, 0.5, 0.6, 0.7, 0.8, 0.9]\n",
      "m_bar: [ 0.   0.1  0.2  0.   0.   0.   0.   0.   0.   0. ]\n",
      "n: [ 0.  1.  1.  0.  0.  0.  0.  0.  0.  0.]\n",
      "Q: [ 1.21715111  0.47939258  0.5651762   1.85117904  1.6990814   1.24381442\n",
      "  1.91706133  1.81303585  1.62434921  1.16137347]\n",
      "argmaxQ: 6 maxQ: 1.91706133299\n",
      "all rewards: [0.0, 0.1, 0.2, 0.3, 0.4, 0.5, 0.6, 0.7, 0.8, 0.9]\n",
      "m_bar: [ 0.   0.1  0.2  0.   0.   0.   0.6  0.   0.   0. ]\n",
      "n: [ 0.  1.  1.  0.  0.  0.  1.  0.  0.  0.]\n",
      "Q: [ 1.32320609  0.51136936  0.59715298  1.95723402  1.80513638  1.3498694\n",
      "  0.96029448  1.91909083  1.73040419  1.26742845]\n",
      "argmaxQ: 3 maxQ: 1.95723401675\n",
      "all rewards: [0.0, 0.1, 0.2, 0.3, 0.4, 0.5, 0.6, 0.7, 0.8, 0.9]\n",
      "m_bar: [ 0.   0.1  0.2  0.3  0.   0.   0.6  0.   0.   0. ]\n",
      "n: [ 0.  1.  1.  1.  0.  0.  1.  0.  0.  0.]\n",
      "Q: [ 1.40097125  0.53481644  0.62060005  0.70502499  1.88290154  1.42763456\n",
      "  0.98374156  1.99685599  1.80816935  1.34519361]\n",
      "argmaxQ: 7 maxQ: 1.9968559938\n",
      "all rewards: [0.0, 0.1, 0.2, 0.3, 0.4, 0.5, 0.6, 0.7, 0.8, 0.9]\n",
      "m_bar: [ 0.   0.1  0.2  0.3  0.   0.   0.6  0.7  0.   0. ]\n",
      "n: [ 0.  1.  1.  1.  0.  0.  1.  1.  0.  0.]\n",
      "Q: [ 1.46196609  0.55320707  0.63899069  0.72341562  1.94389638  1.4886294\n",
      "  1.00213219  1.08358442  1.86916419  1.40618845]\n",
      "argmaxQ: 4 maxQ: 1.94389638245\n",
      "all rewards: [0.0, 0.1, 0.2, 0.3, 0.4, 0.5, 0.6, 0.7, 0.8, 0.9]\n",
      "m_bar: [ 0.   0.1  0.2  0.3  0.4  0.   0.6  0.7  0.   0. ]\n",
      "n: [ 0.  1.  1.  1.  1.  0.  1.  1.  0.  0.]\n",
      "Q: [ 1.51192506  0.56827027  0.65405389  0.73847882  0.81556085  1.53858837\n",
      "  1.01719539  1.09864762  1.91912316  1.45614742]\n",
      "argmaxQ: 8 maxQ: 1.91912316241\n",
      "all rewards: [0.0, 0.1, 0.2, 0.3, 0.4, 0.5, 0.6, 0.7, 0.8, 0.9]\n",
      "m_bar: [ 0.   0.1  0.2  0.3  0.4  0.   0.6  0.7  0.8  0. ]\n",
      "n: [ 0.  1.  1.  1.  1.  0.  1.  1.  1.  0.]\n",
      "Q: [ 1.55410087  0.58098675  0.66677037  0.7511953   0.82827734  1.58076418\n",
      "  1.02991188  1.11136411  1.18511987  1.49832323]\n",
      "argmaxQ: 5 maxQ: 1.58076418358\n",
      "all rewards: [0.0, 0.1, 0.2, 0.3, 0.4, 0.5, 0.6, 0.7, 0.8, 0.9]\n",
      "m_bar: [ 0.   0.1  0.2  0.3  0.4  0.5  0.6  0.7  0.8  0. ]\n",
      "n: [ 0.  1.  1.  1.  1.  1.  1.  1.  1.  0.]\n",
      "Q: [ 1.59050919  0.59196428  0.67774789  0.76217283  0.83925486  0.88877604\n",
      "  1.0408894   1.12234163  1.19609739  1.53473156]\n",
      "argmaxQ: 0 maxQ: 1.59050919124\n",
      "all rewards: [0.0, 0.1, 0.2, 0.3, 0.4, 0.5, 0.6, 0.7, 0.8, 0.9]\n",
      "m_bar: [ 0.   0.1  0.2  0.3  0.4  0.5  0.6  0.7  0.8  0. ]\n",
      "n: [ 1.  1.  1.  1.  1.  1.  1.  1.  1.  0.]\n",
      "Q: [ 0.44144681  0.60160443  0.68738805  0.77181298  0.84889502  0.8984162\n",
      "  1.05052956  1.13198179  1.20573755  1.56670434]\n",
      "argmaxQ: 9 maxQ: 1.56670434468\n",
      "all rewards: [0.0, 0.1, 0.2, 0.3, 0.4, 0.5, 0.6, 0.7, 0.8, 0.9]\n",
      "m_bar: [ 0.   0.1  0.2  0.3  0.4  0.5  0.6  0.7  0.8  0.9]\n",
      "n: [ 1.  1.  1.  1.  1.  1.  1.  1.  1.  1.]\n",
      "Q: [ 0.45002826  0.61018589  0.6959695   0.78039444  0.85747647  0.90699765\n",
      "  1.05911101  1.14056324  1.214319    1.26313939]\n",
      "argmaxQ: 9 maxQ: 1.26313938572\n",
      "all rewards: [0.0, 0.1, 0.2, 0.3, 0.4, 0.5, 0.6, 0.7, 0.8, 0.9]\n",
      "m_bar: [ 0.   0.1  0.2  0.3  0.4  0.5  0.6  0.7  0.8  0.9]\n",
      "n: [ 1.  1.  1.  1.  1.  1.  1.  1.  1.  2.]\n",
      "Q: [ 0.45775195  0.61790957  0.70369319  0.78811812  0.86520015  0.91472134\n",
      "  1.06683469  1.14828692  1.22204268  1.18166224]\n",
      "argmaxQ: 8 maxQ: 1.22204268274\n",
      "all rewards: [0.0, 0.1, 0.2, 0.3, 0.4, 0.5, 0.6, 0.7, 0.8, 0.9]\n",
      "m_bar: [ 0.   0.1  0.2  0.3  0.4  0.5  0.6  0.7  0.8  0.9]\n",
      "n: [ 1.  1.  1.  1.  1.  1.  1.  1.  2.  2.]\n",
      "Q: [ 0.46476733  0.62492496  0.71070857  0.79513351  0.87221554  0.92173672\n",
      "  1.07385008  1.15530231  1.11354797  1.1867396 ]\n",
      "argmaxQ: 9 maxQ: 1.18673960074\n",
      "all rewards: [0.0, 0.1, 0.2, 0.3, 0.4, 0.5, 0.6, 0.7, 0.8, 0.9]\n",
      "m_bar: [ 0.   0.1  0.2  0.3  0.4  0.5  0.6  0.7  0.8  0.9]\n",
      "n: [ 1.  1.  1.  1.  1.  1.  1.  1.  2.  3.]\n",
      "Q: [ 0.47118849  0.63134612  0.71712974  0.80155467  0.8786367   0.92815789\n",
      "  1.08027124  1.16172347  1.11819527  1.14488337]\n",
      "argmaxQ: 7 maxQ: 1.16172347093\n",
      "all rewards: [0.0, 0.1, 0.2, 0.3, 0.4, 0.5, 0.6, 0.7, 0.8, 0.9]\n",
      "m_bar: [ 0.   0.1  0.2  0.3  0.4  0.5  0.6  0.7  0.8  0.9]\n",
      "n: [ 1.  1.  1.  1.  1.  1.  1.  2.  2.  3.]\n",
      "Q: [ 0.47710439  0.63726202  0.72304563  0.80747057  0.8845526   0.93407378\n",
      "  1.08618714  1.03622386  1.12247688  1.14840738]\n",
      "argmaxQ: 9 maxQ: 1.14840737507\n",
      "all rewards: [0.0, 0.1, 0.2, 0.3, 0.4, 0.5, 0.6, 0.7, 0.8, 0.9]\n",
      "m_bar: [ 0.   0.1  0.2  0.3  0.4  0.5  0.6  0.7  0.8  0.9]\n",
      "n: [ 1.  1.  1.  1.  1.  1.  1.  2.  2.  4.]\n",
      "Q: [ 0.48258569  0.64274331  0.72852693  0.81295186  0.8900339   0.93955508\n",
      "  1.09166843  1.04019093  1.12644395  1.12150684]\n",
      "argmaxQ: 8 maxQ: 1.12644394778\n",
      "all rewards: [0.0, 0.1, 0.2, 0.3, 0.4, 0.5, 0.6, 0.7, 0.8, 0.9]\n",
      "m_bar: [ 0.   0.1  0.2  0.3  0.4  0.5  0.6  0.7  0.8  0.9]\n",
      "n: [ 1.  1.  1.  1.  1.  1.  1.  2.  3.  4.]\n",
      "Q: [ 0.4876894   0.64784702  0.73363064  0.81805557  0.89513761  0.94465879\n",
      "  1.09677215  1.04388473  1.07287319  1.12415041]\n",
      "argmaxQ: 9 maxQ: 1.1241504099\n",
      "all rewards: [0.0, 0.1, 0.2, 0.3, 0.4, 0.5, 0.6, 0.7, 0.8, 0.9]\n",
      "m_bar: [ 0.   0.1  0.2  0.3  0.4  0.5  0.6  0.7  0.8  0.9]\n",
      "n: [ 1.  1.  1.  1.  1.  1.  1.  2.  3.  5.]\n",
      "Q: [ 0.49246218  0.6526198   0.73840342  0.82282835  0.89991039  0.94943157\n",
      "  1.10154493  1.04733901  1.07571626  1.10484186]\n",
      "argmaxQ: 9 maxQ: 1.10484185696\n",
      "all rewards: [0.0, 0.1, 0.2, 0.3, 0.4, 0.5, 0.6, 0.7, 0.8, 0.9]\n",
      "m_bar: [ 0.   0.1  0.2  0.3  0.4  0.5  0.6  0.7  0.8  0.9]\n",
      "n: [ 1.  1.  1.  1.  1.  1.  1.  2.  3.  6.]\n",
      "Q: [ 0.49694266  0.65710029  0.7428839   0.82730884  0.90439087  0.95391205\n",
      "  1.10602541  1.05058175  1.07838521  1.09032242]\n",
      "argmaxQ: 6 maxQ: 1.10602541014\n",
      "all rewards: [0.0, 0.1, 0.2, 0.3, 0.4, 0.5, 0.6, 0.7, 0.8, 0.9]\n",
      "m_bar: [ 0.   0.1  0.2  0.3  0.4  0.5  0.6  0.7  0.8  0.9]\n",
      "n: [ 1.  1.  1.  1.  1.  1.  2.  2.  3.  6.]\n",
      "Q: [ 0.5011632   0.66132082  0.74710444  0.83152937  0.9086114   0.95813259\n",
      "  0.96335184  1.05363634  1.08089931  1.09211467]\n",
      "argmaxQ: 9 maxQ: 1.09211467443\n",
      "all rewards: [0.0, 0.1, 0.2, 0.3, 0.4, 0.5, 0.6, 0.7, 0.8, 0.9]\n",
      "m_bar: [ 0.   0.1  0.2  0.3  0.4  0.5  0.6  0.7  0.8  0.9]\n",
      "n: [ 1.  1.  1.  1.  1.  1.  2.  2.  3.  7.]\n",
      "Q: [ 0.50515111  0.66530874  0.75109235  0.83551729  0.91259932  0.9621205\n",
      "  0.96623809  1.05652259  1.08327485  1.08045169]\n",
      "argmaxQ: 8 maxQ: 1.0832748481\n",
      "all rewards: [0.0, 0.1, 0.2, 0.3, 0.4, 0.5, 0.6, 0.7, 0.8, 0.9]\n",
      "m_bar: [ 0.   0.1  0.2  0.3  0.4  0.5  0.6  0.7  0.8  0.9]\n",
      "n: [ 1.  1.  1.  1.  1.  1.  2.  2.  4.  7.]\n",
      "Q: [ 0.50892972  0.66908734  0.75487096  0.83929589  0.91637792  0.96589911\n",
      "  0.96897284  1.05925734  1.04888337  1.08193899]\n",
      "argmaxQ: 9 maxQ: 1.08193898666\n",
      "all rewards: [0.0, 0.1, 0.2, 0.3, 0.4, 0.5, 0.6, 0.7, 0.8, 0.9]\n",
      "m_bar: [ 0.   0.1  0.2  0.3  0.4  0.5  0.6  0.7  0.8  0.9]\n",
      "n: [ 1.  1.  1.  1.  1.  1.  2.  2.  4.  8.]\n",
      "Q: [ 0.51251903  0.67267665  0.75846027  0.8428852   0.91996723  0.96948842\n",
      "  0.97157059  1.06185509  1.05074252  1.07227403]\n",
      "argmaxQ: 9 maxQ: 1.07227403179\n",
      "all rewards: [0.0, 0.1, 0.2, 0.3, 0.4, 0.5, 0.6, 0.7, 0.8, 0.9]\n",
      "m_bar: [ 0.   0.1  0.2  0.3  0.4  0.5  0.6  0.7  0.8  0.9]\n",
      "n: [ 1.  1.  1.  1.  1.  1.  2.  2.  4.  9.]\n",
      "Q: [ 0.51593636  0.67609399  0.76187761  0.84630254  0.92338457  0.97290576\n",
      "  0.97404388  1.06432838  1.0525126   1.06420131]\n",
      "argmaxQ: 7 maxQ: 1.06432837844\n",
      "all rewards: [0.0, 0.1, 0.2, 0.3, 0.4, 0.5, 0.6, 0.7, 0.8, 0.9]\n",
      "m_bar: [ 0.   0.1  0.2  0.3  0.4  0.5  0.6  0.7  0.8  0.9]\n",
      "n: [ 1.  1.  1.  1.  1.  1.  2.  3.  4.  9.]\n",
      "Q: [ 0.51919681  0.67935444  0.76513806  0.84956299  0.92664502  0.97616621\n",
      "  0.97640362  1.00095411  1.05420141  1.06533489]\n",
      "argmaxQ: 9 maxQ: 1.06533489101\n",
      "all rewards: [0.0, 0.1, 0.2, 0.3, 0.4, 0.5, 0.6, 0.7, 0.8, 0.9]\n",
      "m_bar: [ 0.   0.1  0.2  0.3  0.4  0.5  0.6  0.7  0.8  0.9]\n",
      "n: [  1.   1.   1.   1.   1.   1.   2.   3.   4.  10.]\n",
      "Q: [ 0.52231359  0.68247121  0.76825483  0.85267976  0.9297618   0.97928298\n",
      "  0.97865937  1.00281072  1.05581581  1.05835156]\n",
      "argmaxQ: 9 maxQ: 1.05835156341\n",
      "all rewards: [0.0, 0.1, 0.2, 0.3, 0.4, 0.5, 0.6, 0.7, 0.8, 0.9]\n",
      "m_bar: [ 0.   0.1  0.2  0.3  0.4  0.5  0.6  0.7  0.8  0.9]\n",
      "n: [  1.   1.   1.   1.   1.   1.   2.   3.   4.  11.]\n",
      "Q: [ 0.52529832  0.68545595  0.77123957  0.8556645   0.93274653  0.98226772\n",
      "  0.98081957  1.00458868  1.05736181  1.05230736]\n",
      "argmaxQ: 8 maxQ: 1.05736181201\n",
      "all rewards: [0.0, 0.1, 0.2, 0.3, 0.4, 0.5, 0.6, 0.7, 0.8, 0.9]\n",
      "m_bar: [ 0.   0.1  0.2  0.3  0.4  0.5  0.6  0.7  0.8  0.9]\n",
      "n: [  1.   1.   1.   1.   1.   1.   2.   3.   5.  11.]\n",
      "Q: [ 0.52816132  0.68831894  0.77410256  0.85852749  0.93560952  0.98513071\n",
      "  0.98289165  1.00629412  1.03246     1.05320863]\n",
      "argmaxQ: 9 maxQ: 1.0532086266\n",
      "all rewards: [0.0, 0.1, 0.2, 0.3, 0.4, 0.5, 0.6, 0.7, 0.8, 0.9]\n",
      "m_bar: [ 0.   0.1  0.2  0.3  0.4  0.5  0.6  0.7  0.8  0.9]\n",
      "n: [  1.   1.   1.   1.   1.   1.   2.   3.   5.  12.]\n",
      "Q: [ 0.53091172  0.69106935  0.77685296  0.8612779   0.93835993  0.98788111\n",
      "  0.98488225  1.00793249  1.03373735  1.04783602]\n",
      "argmaxQ: 9 maxQ: 1.04783601709\n",
      "all rewards: [0.0, 0.1, 0.2, 0.3, 0.4, 0.5, 0.6, 0.7, 0.8, 0.9]\n",
      "m_bar: [ 0.   0.1  0.2  0.3  0.4  0.5  0.6  0.7  0.8  0.9]\n",
      "n: [  1.   1.   1.   1.   1.   1.   2.   3.   5.  13.]\n",
      "Q: [ 0.53355772  0.69371534  0.77949896  0.86392389  0.94100593  0.99052711\n",
      "  0.98679728  1.00950866  1.0349662   1.04307357]\n",
      "argmaxQ: 9 maxQ: 1.04307356823\n",
      "all rewards: [0.0, 0.1, 0.2, 0.3, 0.4, 0.5, 0.6, 0.7, 0.8, 0.9]\n",
      "m_bar: [ 0.   0.1  0.2  0.3  0.4  0.5  0.6  0.7  0.8  0.9]\n",
      "n: [  1.   1.   1.   1.   1.   1.   2.   3.   5.  14.]\n",
      "Q: [ 0.53610664  0.69626426  0.78204788  0.86647281  0.94355485  0.99307603\n",
      "  0.98864205  1.01102701  1.03614997  1.0388124 ]\n",
      "argmaxQ: 9 maxQ: 1.03881240136\n",
      "all rewards: [0.0, 0.1, 0.2, 0.3, 0.4, 0.5, 0.6, 0.7, 0.8, 0.9]\n",
      "m_bar: [ 0.   0.1  0.2  0.3  0.4  0.5  0.6  0.7  0.8  0.9]\n",
      "n: [  1.   1.   1.   1.   1.   1.   2.   3.   5.  15.]\n",
      "Q: [ 0.53856507  0.6987227   0.78450631  0.86893125  0.94601328  0.99553446\n",
      "  0.99042133  1.01249146  1.03729172  1.03496905]\n",
      "argmaxQ: 8 maxQ: 1.03729171933\n",
      "all rewards: [0.0, 0.1, 0.2, 0.3, 0.4, 0.5, 0.6, 0.7, 0.8, 0.9]\n",
      "m_bar: [ 0.   0.1  0.2  0.3  0.4  0.5  0.6  0.7  0.8  0.9]\n",
      "n: [  1.   1.   1.   1.   1.   1.   2.   3.   6.  15.]\n",
      "Q: [ 0.54093898  0.7010966   0.78688022  0.87130515  0.94838719  0.99790837\n",
      "  0.99213944  1.01390556  1.01823458  1.03560978]\n",
      "argmaxQ: 9 maxQ: 1.0356097764\n",
      "all rewards: [0.0, 0.1, 0.2, 0.3, 0.4, 0.5, 0.6, 0.7, 0.8, 0.9]\n",
      "m_bar: [ 0.   0.1  0.2  0.3  0.4  0.5  0.6  0.7  0.8  0.9]\n",
      "n: [  1.   1.   1.   1.   1.   1.   2.   3.   6.  16.]\n",
      "Q: [ 0.54323375  0.70339138  0.78917499  0.87359993  0.95068196  1.00020314\n",
      "  0.99380028  1.01527252  1.01920906  1.03207815]\n",
      "argmaxQ: 9 maxQ: 1.03207814518\n",
      "all rewards: [0.0, 0.1, 0.2, 0.3, 0.4, 0.5, 0.6, 0.7, 0.8, 0.9]\n",
      "m_bar: [ 0.   0.1  0.2  0.3  0.4  0.5  0.6  0.7  0.8  0.9]\n",
      "n: [  1.   1.   1.   1.   1.   1.   2.   3.   6.  17.]\n",
      "Q: [ 0.54545429  0.70561192  0.79139554  0.87582047  0.9529025   1.00242369\n",
      "  0.99540739  1.01659526  1.02015201  1.02885164]\n",
      "argmaxQ: 9 maxQ: 1.02885164\n",
      "all rewards: [0.0, 0.1, 0.2, 0.3, 0.4, 0.5, 0.6, 0.7, 0.8, 0.9]\n",
      "m_bar: [ 0.   0.1  0.2  0.3  0.4  0.5  0.6  0.7  0.8  0.9]\n",
      "n: [  1.   1.   1.   1.   1.   1.   2.   3.   6.  18.]\n",
      "Q: [ 0.54760507  0.7077627   0.79354632  0.87797125  0.95505328  1.00457447\n",
      "  0.99696401  1.01787644  1.02106534  1.02588795]\n",
      "argmaxQ: 9 maxQ: 1.02588794959\n",
      "all rewards: [0.0, 0.1, 0.2, 0.3, 0.4, 0.5, 0.6, 0.7, 0.8, 0.9]\n",
      "m_bar: [ 0.   0.1  0.2  0.3  0.4  0.5  0.6  0.7  0.8  0.9]\n",
      "n: [  1.   1.   1.   1.   1.   1.   2.   3.   6.  19.]\n",
      "Q: [ 0.54969017  0.7098478   0.79563142  0.88005635  0.95713838  1.00665957\n",
      "  0.99847309  1.0191185   1.02195078  1.02315256]\n",
      "argmaxQ: 9 maxQ: 1.02315256314\n",
      "all rewards: [0.0, 0.1, 0.2, 0.3, 0.4, 0.5, 0.6, 0.7, 0.8, 0.9]\n",
      "m_bar: [ 0.   0.1  0.2  0.3  0.4  0.5  0.6  0.7  0.8  0.9]\n",
      "n: [  1.   1.   1.   1.   1.   1.   2.   3.   6.  20.]\n",
      "Q: [ 0.55171333  0.71187096  0.79765457  0.88207951  0.95916154  1.00868272\n",
      "  0.99993735  1.02032366  1.02280991  1.02061701]\n",
      "argmaxQ: 8 maxQ: 1.02280991431\n",
      "all rewards: [0.0, 0.1, 0.2, 0.3, 0.4, 0.5, 0.6, 0.7, 0.8, 0.9]\n",
      "m_bar: [ 0.   0.1  0.2  0.3  0.4  0.5  0.6  0.7  0.8  0.9]\n",
      "n: [  1.   1.   1.   1.   1.   1.   2.   3.   7.  20.]\n",
      "Q: [ 0.55367798  0.7138356   0.79961922  0.88404415  0.96112619  1.01064737\n",
      "  1.00135925  1.02149397  1.00748163  1.02107662]\n",
      "argmaxQ: 7 maxQ: 1.02149396848\n",
      "all rewards: [0.0, 0.1, 0.2, 0.3, 0.4, 0.5, 0.6, 0.7, 0.8, 0.9]\n",
      "m_bar: [ 0.   0.1  0.2  0.3  0.4  0.5  0.6  0.7  0.8  0.9]\n",
      "n: [  1.   1.   1.   1.   1.   1.   2.   4.   7.  20.]\n",
      "Q: [ 0.55558728  0.7157449   0.80152852  0.88595345  0.96303548  1.01255667\n",
      "  1.0027411   0.98009171  1.00823315  1.02152327]\n",
      "argmaxQ: 9 maxQ: 1.02152327228\n",
      "all rewards: [0.0, 0.1, 0.2, 0.3, 0.4, 0.5, 0.6, 0.7, 0.8, 0.9]\n",
      "m_bar: [ 0.   0.1  0.2  0.3  0.4  0.5  0.6  0.7  0.8  0.9]\n",
      "n: [  1.   1.   1.   1.   1.   1.   2.   4.   7.  21.]\n",
      "Q: [ 0.55744414  0.71760176  0.80338538  0.88781031  0.96489235  1.01441353\n",
      "  1.004085    0.98105351  1.00896403  1.0191175 ]\n",
      "argmaxQ: 9 maxQ: 1.01911749767\n",
      "all rewards: [0.0, 0.1, 0.2, 0.3, 0.4, 0.5, 0.6, 0.7, 0.8, 0.9]\n",
      "m_bar: [ 0.   0.1  0.2  0.3  0.4  0.5  0.6  0.7  0.8  0.9]\n",
      "n: [  1.   1.   1.   1.   1.   1.   2.   4.   7.  22.]\n",
      "Q: [ 0.55925126  0.71940888  0.8051925   0.88961743  0.96669947  1.01622065\n",
      "  1.0053929   0.98198954  1.00967533  1.01687177]\n",
      "argmaxQ: 9 maxQ: 1.01687177196\n",
      "all rewards: [0.0, 0.1, 0.2, 0.3, 0.4, 0.5, 0.6, 0.7, 0.8, 0.9]\n",
      "m_bar: [ 0.   0.1  0.2  0.3  0.4  0.5  0.6  0.7  0.8  0.9]\n",
      "n: [  1.   1.   1.   1.   1.   1.   2.   4.   7.  23.]\n",
      "Q: [ 0.56101113  0.72116876  0.80695237  0.89137731  0.96845934  1.01798052\n",
      "  1.0066666   0.9829011   1.01036804  1.01476874]\n",
      "argmaxQ: 5 maxQ: 1.01798052291\n",
      "all rewards: [0.0, 0.1, 0.2, 0.3, 0.4, 0.5, 0.6, 0.7, 0.8, 0.9]\n",
      "m_bar: [ 0.   0.1  0.2  0.3  0.4  0.5  0.6  0.7  0.8  0.9]\n",
      "n: [  1.   1.   1.   1.   1.   2.   2.   4.   7.  23.]\n",
      "Q: [ 0.56272607  0.72288369  0.80866731  0.89309224  0.97017428  0.88061031\n",
      "  1.00790778  0.98378939  1.01104306  1.01514297]\n",
      "argmaxQ: 9 maxQ: 1.01514297297\n",
      "all rewards: [0.0, 0.1, 0.2, 0.3, 0.4, 0.5, 0.6, 0.7, 0.8, 0.9]\n",
      "m_bar: [ 0.   0.1  0.2  0.3  0.4  0.5  0.6  0.7  0.8  0.9]\n",
      "n: [  1.   1.   1.   1.   1.   2.   2.   4.   7.  24.]\n",
      "Q: [ 0.56439822  0.72455585  0.81033947  0.8947644   0.97184643  0.88182053\n",
      "  1.009118    0.98465552  1.01170123  1.01315083]\n",
      "argmaxQ: 9 maxQ: 1.01315083407\n",
      "all rewards: [0.0, 0.1, 0.2, 0.3, 0.4, 0.5, 0.6, 0.7, 0.8, 0.9]\n",
      "m_bar: [ 0.   0.1  0.2  0.3  0.4  0.5  0.6  0.7  0.8  0.9]\n",
      "n: [  1.   1.   1.   1.   1.   2.   2.   4.   7.  25.]\n",
      "Q: [ 0.5660296   0.72618722  0.81197084  0.89639577  0.97347781  0.88300123\n",
      "  1.0102987   0.98550052  1.01234336  1.01127509]\n",
      "argmaxQ: 8 maxQ: 1.01234336103\n",
      "all rewards: [0.0, 0.1, 0.2, 0.3, 0.4, 0.5, 0.6, 0.7, 0.8, 0.9]\n",
      "m_bar: [ 0.   0.1  0.2  0.3  0.4  0.5  0.6  0.7  0.8  0.9]\n",
      "n: [  1.   1.   1.   1.   1.   2.   2.   4.   8.  25.]\n",
      "Q: [ 0.56762206  0.72777968  0.8135633   0.89798823  0.97507026  0.88415376\n",
      "  1.01145124  0.98632536  0.99953058  1.01160846]\n",
      "argmaxQ: 9 maxQ: 1.01160846106\n",
      "all rewards: [0.0, 0.1, 0.2, 0.3, 0.4, 0.5, 0.6, 0.7, 0.8, 0.9]\n",
      "m_bar: [ 0.   0.1  0.2  0.3  0.4  0.5  0.6  0.7  0.8  0.9]\n",
      "n: [  1.   1.   1.   1.   1.   2.   2.   4.   8.  26.]\n",
      "Q: [ 0.56917734  0.72933497  0.81511858  0.89954352  0.97662555  0.8852794\n",
      "  1.01257687  0.98713096  1.00010373  1.00982388]\n",
      "argmaxQ: 6 maxQ: 1.01257686893\n",
      "all rewards: [0.0, 0.1, 0.2, 0.3, 0.4, 0.5, 0.6, 0.7, 0.8, 0.9]\n",
      "m_bar: [ 0.   0.1  0.2  0.3  0.4  0.5  0.6  0.7  0.8  0.9]\n",
      "n: [  1.   1.   1.   1.   1.   2.   3.   4.   8.  26.]\n",
      "Q: [ 0.57069709  0.73085471  0.81663833  0.90106326  0.9781453   0.88637931\n",
      "  0.93821344  0.98791814  1.00066377  1.01013587]\n",
      "argmaxQ: 9 maxQ: 1.01013587118\n",
      "all rewards: [0.0, 0.1, 0.2, 0.3, 0.4, 0.5, 0.6, 0.7, 0.8, 0.9]\n",
      "m_bar: [ 0.   0.1  0.2  0.3  0.4  0.5  0.6  0.7  0.8  0.9]\n",
      "n: [  1.   1.   1.   1.   1.   2.   3.   4.   8.  27.]\n",
      "Q: [ 0.57218282  0.73234044  0.81812406  0.90254899  0.97963103  0.8874546\n",
      "  0.93909846  0.9886877   1.00121128  1.00843513]\n",
      "argmaxQ: 9 maxQ: 1.00843512769\n",
      "all rewards: [0.0, 0.1, 0.2, 0.3, 0.4, 0.5, 0.6, 0.7, 0.8, 0.9]\n",
      "m_bar: [ 0.   0.1  0.2  0.3  0.4  0.5  0.6  0.7  0.8  0.9]\n",
      "n: [  1.   1.   1.   1.   1.   2.   3.   4.   8.  28.]\n",
      "Q: [ 0.57363597  0.73379359  0.81957721  0.90400214  0.98108418  0.88850631\n",
      "  0.93996408  0.98944039  1.00174679  1.00682314]\n",
      "argmaxQ: 9 maxQ: 1.00682314377\n",
      "all rewards: [0.0, 0.1, 0.2, 0.3, 0.4, 0.5, 0.6, 0.7, 0.8, 0.9]\n",
      "m_bar: [ 0.   0.1  0.2  0.3  0.4  0.5  0.6  0.7  0.8  0.9]\n",
      "n: [  1.   1.   1.   1.   1.   2.   3.   4.   8.  29.]\n",
      "Q: [ 0.57505788  0.7352155   0.82099912  0.90542405  0.98250609  0.88953542\n",
      "  0.94081109  0.9901769   1.00227078  1.00529229]\n",
      "argmaxQ: 9 maxQ: 1.00529229177\n",
      "all rewards: [0.0, 0.1, 0.2, 0.3, 0.4, 0.5, 0.6, 0.7, 0.8, 0.9]\n",
      "m_bar: [ 0.   0.1  0.2  0.3  0.4  0.5  0.6  0.7  0.8  0.9]\n",
      "n: [  1.   1.   1.   1.   1.   2.   3.   4.   8.  30.]\n",
      "Q: [ 0.57644982  0.73660744  0.82239106  0.90681599  0.98389803  0.89054283\n",
      "  0.94164024  0.99089788  1.00278373  1.00383583]\n",
      "argmaxQ: 9 maxQ: 1.00383583483\n",
      "all rewards: [0.0, 0.1, 0.2, 0.3, 0.4, 0.5, 0.6, 0.7, 0.8, 0.9]\n",
      "m_bar: [ 0.   0.1  0.2  0.3  0.4  0.5  0.6  0.7  0.8  0.9]\n",
      "n: [  1.   1.   1.   1.   1.   2.   3.   4.   8.  31.]\n",
      "Q: [ 0.57781297  0.7379706   0.82375421  0.90817915  0.98526118  0.89152941\n",
      "  0.94245225  0.99160395  1.00328607  1.0024478 ]\n",
      "argmaxQ: 8 maxQ: 1.00328607449\n",
      "all rewards: [0.0, 0.1, 0.2, 0.3, 0.4, 0.5, 0.6, 0.7, 0.8, 0.9]\n",
      "m_bar: [ 0.   0.1  0.2  0.3  0.4  0.5  0.6  0.7  0.8  0.9]\n",
      "n: [  1.   1.   1.   1.   1.   2.   3.   4.   9.  31.]\n",
      "Q: [ 0.57914847  0.73930609  0.82508971  0.90951464  0.98659668  0.89249597\n",
      "  0.94324778  0.9922957   0.99236523  1.00269896]\n",
      "argmaxQ: 9 maxQ: 1.00269896203\n",
      "all rewards: [0.0, 0.1, 0.2, 0.3, 0.4, 0.5, 0.6, 0.7, 0.8, 0.9]\n",
      "m_bar: [ 0.   0.1  0.2  0.3  0.4  0.5  0.6  0.7  0.8  0.9]\n",
      "n: [  1.   1.   1.   1.   1.   2.   3.   4.   9.  32.]\n",
      "Q: [ 0.58045736  0.74061499  0.8263986   0.91082353  0.98790557  0.89344327\n",
      "  0.94402747  0.99297366  0.9928203   1.00136516]\n",
      "argmaxQ: 9 maxQ: 1.00136515528\n",
      "all rewards: [0.0, 0.1, 0.2, 0.3, 0.4, 0.5, 0.6, 0.7, 0.8, 0.9]\n",
      "m_bar: [ 0.   0.1  0.2  0.3  0.4  0.5  0.6  0.7  0.8  0.9]\n",
      "n: [  1.   1.   1.   1.   1.   2.   3.   4.   9.  33.]\n",
      "Q: [ 0.58174065  0.74189827  0.82768189  0.91210682  0.98918886  0.89437205\n",
      "  0.9447919   0.99363837  0.99326647  1.0000902 ]\n",
      "argmaxQ: 9 maxQ: 1.00009020258\n",
      "all rewards: [0.0, 0.1, 0.2, 0.3, 0.4, 0.5, 0.6, 0.7, 0.8, 0.9]\n",
      "m_bar: [ 0.   0.1  0.2  0.3  0.4  0.5  0.6  0.7  0.8  0.9]\n",
      "n: [  1.   1.   1.   1.   1.   2.   3.   4.   9.  34.]\n",
      "Q: [ 0.58299928  0.74315691  0.82894052  0.91336546  0.99044749  0.89528298\n",
      "  0.94554165  0.9942903   0.99370407  0.9988698 ]\n",
      "argmaxQ: 9 maxQ: 0.998869796282\n",
      "all rewards: [0.0, 0.1, 0.2, 0.3, 0.4, 0.5, 0.6, 0.7, 0.8, 0.9]\n",
      "m_bar: [ 0.   0.1  0.2  0.3  0.4  0.5  0.6  0.7  0.8  0.9]\n",
      "n: [  1.   1.   1.   1.   1.   2.   3.   4.   9.  35.]\n",
      "Q: [ 0.58423415  0.74439177  0.83017539  0.91460032  0.99168236  0.89617671\n",
      "  0.94627724  0.99492993  0.99413341  0.99770006]\n",
      "argmaxQ: 9 maxQ: 0.99770005984\n",
      "all rewards: [0.0, 0.1, 0.2, 0.3, 0.4, 0.5, 0.6, 0.7, 0.8, 0.9]\n",
      "m_bar: [ 0.   0.1  0.2  0.3  0.4  0.5  0.6  0.7  0.8  0.9]\n",
      "n: [  1.   1.   1.   1.   1.   2.   3.   4.   9.  36.]\n",
      "Q: [ 0.5854461   0.74560373  0.83138734  0.91581228  0.99289431  0.89705386\n",
      "  0.94699918  0.99555768  0.99455477  0.99657749]\n",
      "argmaxQ: 9 maxQ: 0.996577493843\n",
      "all rewards: [0.0, 0.1, 0.2, 0.3, 0.4, 0.5, 0.6, 0.7, 0.8, 0.9]\n",
      "m_bar: [ 0.   0.1  0.2  0.3  0.4  0.5  0.6  0.7  0.8  0.9]\n",
      "n: [  1.   1.   1.   1.   1.   2.   3.   4.   9.  37.]\n",
      "Q: [ 0.58663594  0.74679357  0.83257718  0.91700212  0.99408415  0.897915\n",
      "  0.94770795  0.99617398  0.99496845  0.99549893]\n",
      "argmaxQ: 7 maxQ: 0.996173982283\n",
      "all rewards: [0.0, 0.1, 0.2, 0.3, 0.4, 0.5, 0.6, 0.7, 0.8, 0.9]\n",
      "m_bar: [ 0.   0.1  0.2  0.3  0.4  0.5  0.6  0.7  0.8  0.9]\n",
      "n: [  1.   1.   1.   1.   1.   2.   3.   5.   9.  37.]\n",
      "Q: [ 0.58780443  0.74796206  0.83374568  0.91817061  0.99525264  0.8987607\n",
      "  0.948404    0.96582     0.99537471  0.99570013]\n",
      "argmaxQ: 9 maxQ: 0.995700133259\n",
      "all rewards: [0.0, 0.1, 0.2, 0.3, 0.4, 0.5, 0.6, 0.7, 0.8, 0.9]\n",
      "m_bar: [ 0.   0.1  0.2  0.3  0.4  0.5  0.6  0.7  0.8  0.9]\n",
      "n: [  1.   1.   1.   1.   1.   2.   3.   5.   9.  38.]\n",
      "Q: [ 0.5889523   0.74910993  0.83489354  0.91931848  0.99640051  0.89959146\n",
      "  0.94908776  0.9663531   0.9957738   0.99465653]\n",
      "argmaxQ: 4 maxQ: 0.996400508648\n",
      "all rewards: [0.0, 0.1, 0.2, 0.3, 0.4, 0.5, 0.6, 0.7, 0.8, 0.9]\n",
      "m_bar: [ 0.   0.1  0.2  0.3  0.4  0.5  0.6  0.7  0.8  0.9]\n",
      "n: [  1.   1.   1.   1.   2.   2.   3.   5.   9.  38.]\n",
      "Q: [ 0.59008023  0.75023786  0.83602147  0.9204464   0.82684908  0.9004078\n",
      "  0.94975965  0.96687693  0.99616595  0.99484819]\n",
      "argmaxQ: 8 maxQ: 0.996165952911\n",
      "all rewards: [0.0, 0.1, 0.2, 0.3, 0.4, 0.5, 0.6, 0.7, 0.8, 0.9]\n",
      "m_bar: [ 0.   0.1  0.2  0.3  0.4  0.5  0.6  0.7  0.8  0.9]\n",
      "n: [  1.   1.   1.   1.   2.   2.   3.   5.  10.  38.]\n",
      "Q: [ 0.59118888  0.7513465   0.83713012  0.92155505  0.82765146  0.90121018\n",
      "  0.95042006  0.96739181  0.98665556  0.99503656]\n",
      "argmaxQ: 9 maxQ: 0.995036562873\n",
      "all rewards: [0.0, 0.1, 0.2, 0.3, 0.4, 0.5, 0.6, 0.7, 0.8, 0.9]\n",
      "m_bar: [ 0.   0.1  0.2  0.3  0.4  0.5  0.6  0.7  0.8  0.9]\n",
      "n: [  1.   1.   1.   1.   2.   2.   3.   5.  10.  39.]\n",
      "Q: [ 0.59227887  0.75243649  0.83822011  0.92264504  0.82844034  0.90199905\n",
      "  0.95106935  0.96789802  0.98701528  0.99402052]\n",
      "argmaxQ: 9 maxQ: 0.994020524064\n",
      "all rewards: [0.0, 0.1, 0.2, 0.3, 0.4, 0.5, 0.6, 0.7, 0.8, 0.9]\n",
      "m_bar: [ 0.   0.1  0.2  0.3  0.4  0.5  0.6  0.7  0.8  0.9]\n",
      "n: [  1.   1.   1.   1.   2.   2.   3.   5.  10.  40.]\n",
      "Q: [ 0.5933508   0.75350842  0.83929204  0.92371697  0.82921614  0.90277486\n",
      "  0.95170788  0.96839585  0.98736903  0.99304144]\n",
      "argmaxQ: 9 maxQ: 0.993041436607\n",
      "all rewards: [0.0, 0.1, 0.2, 0.3, 0.4, 0.5, 0.6, 0.7, 0.8, 0.9]\n",
      "m_bar: [ 0.   0.1  0.2  0.3  0.4  0.5  0.6  0.7  0.8  0.9]\n",
      "n: [  1.   1.   1.   1.   2.   2.   3.   5.  10.  41.]\n",
      "Q: [ 0.59440523  0.75456285  0.84034647  0.9247714   0.82997929  0.903538\n",
      "  0.95233598  0.96888555  0.98771701  0.99209706]\n",
      "argmaxQ: 9 maxQ: 0.992097059083\n",
      "all rewards: [0.0, 0.1, 0.2, 0.3, 0.4, 0.5, 0.6, 0.7, 0.8, 0.9]\n",
      "m_bar: [ 0.   0.1  0.2  0.3  0.4  0.5  0.6  0.7  0.8  0.9]\n",
      "n: [  1.   1.   1.   1.   2.   2.   3.   5.  10.  42.]\n",
      "Q: [ 0.59544271  0.75560033  0.84138395  0.92580888  0.83073016  0.90428887\n",
      "  0.95295399  0.96936737  0.9880594   0.99118534]\n",
      "argmaxQ: 9 maxQ: 0.991185336983\n",
      "all rewards: [0.0, 0.1, 0.2, 0.3, 0.4, 0.5, 0.6, 0.7, 0.8, 0.9]\n",
      "m_bar: [ 0.   0.1  0.2  0.3  0.4  0.5  0.6  0.7  0.8  0.9]\n",
      "n: [  1.   1.   1.   1.   2.   2.   3.   5.  10.  43.]\n",
      "Q: [ 0.59646375  0.75662137  0.84240499  0.92682992  0.83146913  0.90502785\n",
      "  0.95356221  0.96984157  0.98839636  0.99030438]\n",
      "argmaxQ: 9 maxQ: 0.990304383112\n",
      "all rewards: [0.0, 0.1, 0.2, 0.3, 0.4, 0.5, 0.6, 0.7, 0.8, 0.9]\n",
      "m_bar: [ 0.   0.1  0.2  0.3  0.4  0.5  0.6  0.7  0.8  0.9]\n",
      "n: [  1.   1.   1.   1.   2.   2.   3.   5.  10.  44.]\n",
      "Q: [ 0.59746884  0.75762647  0.84341008  0.92783502  0.83219657  0.90575528\n",
      "  0.95416093  0.97030835  0.98872805  0.98945246]\n",
      "argmaxQ: 9 maxQ: 0.98945246045\n",
      "all rewards: [0.0, 0.1, 0.2, 0.3, 0.4, 0.5, 0.6, 0.7, 0.8, 0.9]\n",
      "m_bar: [ 0.   0.1  0.2  0.3  0.4  0.5  0.6  0.7  0.8  0.9]\n",
      "n: [  1.   1.   1.   1.   2.   2.   3.   5.  10.  45.]\n",
      "Q: [ 0.59845846  0.75861609  0.84439971  0.92882464  0.8329128   0.90647152\n",
      "  0.95475043  0.97076795  0.98905465  0.98862797]\n",
      "argmaxQ: 8 maxQ: 0.989054645766\n",
      "all rewards: [0.0, 0.1, 0.2, 0.3, 0.4, 0.5, 0.6, 0.7, 0.8, 0.9]\n",
      "m_bar: [ 0.   0.1  0.2  0.3  0.4  0.5  0.6  0.7  0.8  0.9]\n",
      "n: [  1.   1.   1.   1.   2.   2.   3.   5.  11.  45.]\n",
      "Q: [ 0.59943307  0.75959069  0.84537431  0.92979924  0.83361817  0.90717688\n",
      "  0.95533098  0.97122058  0.98071683  0.98878017]\n",
      "argmaxQ: 9 maxQ: 0.988780174432\n",
      "all rewards: [0.0, 0.1, 0.2, 0.3, 0.4, 0.5, 0.6, 0.7, 0.8, 0.9]\n",
      "m_bar: [ 0.   0.1  0.2  0.3  0.4  0.5  0.6  0.7  0.8  0.9]\n",
      "n: [  1.   1.   1.   1.   2.   2.   3.   5.  11.  46.]\n",
      "Q: [ 0.60039308  0.76055071  0.84633432  0.93075926  0.83431297  0.90787169\n",
      "  0.95590285  0.97166643  0.98101905  0.98797772]\n",
      "argmaxQ: 9 maxQ: 0.987977717144\n",
      "all rewards: [0.0, 0.1, 0.2, 0.3, 0.4, 0.5, 0.6, 0.7, 0.8, 0.9]\n",
      "m_bar: [ 0.   0.1  0.2  0.3  0.4  0.5  0.6  0.7  0.8  0.9]\n",
      "n: [  1.   1.   1.   1.   2.   2.   3.   5.  11.  47.]\n",
      "Q: [ 0.60133892  0.76149655  0.84728016  0.9317051   0.83499752  0.90855624\n",
      "  0.95646627  0.9721057   0.9813168   0.9872    ]\n",
      "argmaxQ: 9 maxQ: 0.987200003974\n",
      "all rewards: [0.0, 0.1, 0.2, 0.3, 0.4, 0.5, 0.6, 0.7, 0.8, 0.9]\n",
      "m_bar: [ 0.   0.1  0.2  0.3  0.4  0.5  0.6  0.7  0.8  0.9]\n",
      "n: [  1.   1.   1.   1.   2.   2.   3.   5.  11.  48.]\n",
      "Q: [ 0.60227099  0.76242861  0.84821223  0.93263716  0.8356721   0.90923082\n",
      "  0.95702148  0.97253857  0.98161021  0.98644576]\n",
      "argmaxQ: 9 maxQ: 0.986445755369\n",
      "all rewards: [0.0, 0.1, 0.2, 0.3, 0.4, 0.5, 0.6, 0.7, 0.8, 0.9]\n",
      "m_bar: [ 0.   0.1  0.2  0.3  0.4  0.5  0.6  0.7  0.8  0.9]\n",
      "n: [  1.   1.   1.   1.   2.   2.   3.   5.  11.  49.]\n",
      "Q: [ 0.60318966  0.76334728  0.8491309   0.93355583  0.83633699  0.9098957\n",
      "  0.95756872  0.97296522  0.98189941  0.98571378]\n",
      "argmaxQ: 9 maxQ: 0.985713783166\n",
      "all rewards: [0.0, 0.1, 0.2, 0.3, 0.4, 0.5, 0.6, 0.7, 0.8, 0.9]\n",
      "m_bar: [ 0.   0.1  0.2  0.3  0.4  0.5  0.6  0.7  0.8  0.9]\n",
      "n: [  1.   1.   1.   1.   2.   2.   3.   5.  11.  50.]\n",
      "Q: [ 0.6040953   0.76425292  0.85003654  0.93446147  0.83699244  0.91055116\n",
      "  0.9581082   0.97338581  0.9821845   0.98500298]\n",
      "argmaxQ: 9 maxQ: 0.985002982357\n",
      "all rewards: [0.0, 0.1, 0.2, 0.3, 0.4, 0.5, 0.6, 0.7, 0.8, 0.9]\n",
      "m_bar: [ 0.   0.1  0.2  0.3  0.4  0.5  0.6  0.7  0.8  0.9]\n",
      "n: [  1.   1.   1.   1.   2.   2.   3.   5.  11.  51.]\n",
      "Q: [ 0.60498826  0.76514588  0.8509295   0.93535443  0.83763872  0.91119744\n",
      "  0.95864012  0.97380052  0.98246561  0.98431232]\n",
      "argmaxQ: 9 maxQ: 0.984312323737\n",
      "all rewards: [0.0, 0.1, 0.2, 0.3, 0.4, 0.5, 0.6, 0.7, 0.8, 0.9]\n",
      "m_bar: [ 0.   0.1  0.2  0.3  0.4  0.5  0.6  0.7  0.8  0.9]\n",
      "n: [  1.   1.   1.   1.   2.   2.   3.   5.  11.  52.]\n",
      "Q: [ 0.60586888  0.7660265   0.85181012  0.93623505  0.83827607  0.91183478\n",
      "  0.95916469  0.9742095   0.98274283  0.98364085]\n",
      "argmaxQ: 9 maxQ: 0.983640847338\n",
      "all rewards: [0.0, 0.1, 0.2, 0.3, 0.4, 0.5, 0.6, 0.7, 0.8, 0.9]\n",
      "m_bar: [ 0.   0.1  0.2  0.3  0.4  0.5  0.6  0.7  0.8  0.9]\n",
      "n: [  1.   1.   1.   1.   2.   2.   3.   5.  11.  53.]\n",
      "Q: [ 0.60673748  0.76689511  0.85267872  0.93710366  0.83890472  0.91246343\n",
      "  0.9596821   0.9746129   0.98301626  0.98298766]\n",
      "argmaxQ: 8 maxQ: 0.983016264789\n",
      "all rewards: [0.0, 0.1, 0.2, 0.3, 0.4, 0.5, 0.6, 0.7, 0.8, 0.9]\n",
      "m_bar: [ 0.   0.1  0.2  0.3  0.4  0.5  0.6  0.7  0.8  0.9]\n",
      "n: [  1.   1.   1.   1.   2.   2.   3.   5.  12.  53.]\n",
      "Q: [ 0.60759438  0.76775201  0.85353562  0.93796056  0.83952489  0.91308361\n",
      "  0.96019254  0.97501086  0.9756094   0.98311099]\n",
      "argmaxQ: 9 maxQ: 0.983110989262\n",
      "all rewards: [0.0, 0.1, 0.2, 0.3, 0.4, 0.5, 0.6, 0.7, 0.8, 0.9]\n",
      "m_bar: [ 0.   0.1  0.2  0.3  0.4  0.5  0.6  0.7  0.8  0.9]\n",
      "n: [  1.   1.   1.   1.   2.   2.   3.   5.  12.  54.]\n",
      "Q: [ 0.60843987  0.7685975   0.85438112  0.93880605  0.84013682  0.91369553\n",
      "  0.96069619  0.97540352  0.97586433  0.98247247]\n",
      "argmaxQ: 9 maxQ: 0.982472474007\n",
      "all rewards: [0.0, 0.1, 0.2, 0.3, 0.4, 0.5, 0.6, 0.7, 0.8, 0.9]\n",
      "m_bar: [ 0.   0.1  0.2  0.3  0.4  0.5  0.6  0.7  0.8  0.9]\n",
      "n: [  1.   1.   1.   1.   2.   2.   3.   5.  12.  55.]\n",
      "Q: [ 0.60927425  0.76943188  0.85521549  0.93964042  0.84074069  0.91429941\n",
      "  0.96119321  0.97579102  0.9761159   0.98185072]\n",
      "argmaxQ: 9 maxQ: 0.981850722298\n",
      "all rewards: [0.0, 0.1, 0.2, 0.3, 0.4, 0.5, 0.6, 0.7, 0.8, 0.9]\n",
      "m_bar: [ 0.   0.1  0.2  0.3  0.4  0.5  0.6  0.7  0.8  0.9]\n",
      "n: [  1.   1.   1.   1.   2.   2.   3.   5.  12.  56.]\n",
      "Q: [ 0.61009779  0.77025541  0.85603903  0.94046396  0.84133673  0.91489544\n",
      "  0.96168378  0.97617349  0.97636421  0.98124499]\n",
      "argmaxQ: 9 maxQ: 0.98124499271\n",
      "all rewards: [0.0, 0.1, 0.2, 0.3, 0.4, 0.5, 0.6, 0.7, 0.8, 0.9]\n",
      "m_bar: [ 0.   0.1  0.2  0.3  0.4  0.5  0.6  0.7  0.8  0.9]\n",
      "n: [  1.   1.   1.   1.   2.   2.   3.   5.  12.  57.]\n",
      "Q: [ 0.61091075  0.77106838  0.856852    0.94127693  0.84192511  0.91548382\n",
      "  0.96216805  0.97655105  0.97660933  0.98065459]\n",
      "argmaxQ: 9 maxQ: 0.980654589293\n",
      "all rewards: [0.0, 0.1, 0.2, 0.3, 0.4, 0.5, 0.6, 0.7, 0.8, 0.9]\n",
      "m_bar: [ 0.   0.1  0.2  0.3  0.4  0.5  0.6  0.7  0.8  0.9]\n",
      "n: [  1.   1.   1.   1.   2.   2.   3.   5.  12.  58.]\n",
      "Q: [ 0.61171341  0.77187103  0.85765465  0.94207958  0.84250603  0.91606474\n",
      "  0.96264618  0.97692382  0.97685133  0.98007886]\n",
      "argmaxQ: 9 maxQ: 0.980078858047\n",
      "all rewards: [0.0, 0.1, 0.2, 0.3, 0.4, 0.5, 0.6, 0.7, 0.8, 0.9]\n",
      "m_bar: [ 0.   0.1  0.2  0.3  0.4  0.5  0.6  0.7  0.8  0.9]\n",
      "n: [  1.   1.   1.   1.   2.   2.   3.   5.  12.  59.]\n",
      "Q: [ 0.612506    0.77266363  0.85844724  0.94287218  0.84307966  0.91663838\n",
      "  0.96311831  0.97729192  0.97709031  0.97951718]\n",
      "argmaxQ: 9 maxQ: 0.979517183714\n",
      "all rewards: [0.0, 0.1, 0.2, 0.3, 0.4, 0.5, 0.6, 0.7, 0.8, 0.9]\n",
      "m_bar: [ 0.   0.1  0.2  0.3  0.4  0.5  0.6  0.7  0.8  0.9]\n",
      "n: [  1.   1.   1.   1.   2.   2.   3.   5.  12.  60.]\n",
      "Q: [ 0.61328877  0.77344639  0.85923001  0.94365494  0.84364619  0.9172049\n",
      "  0.96358459  0.97765545  0.97732632  0.97896899]\n",
      "argmaxQ: 9 maxQ: 0.978968986867\n",
      "all rewards: [0.0, 0.1, 0.2, 0.3, 0.4, 0.5, 0.6, 0.7, 0.8, 0.9]\n",
      "m_bar: [ 0.   0.1  0.2  0.3  0.4  0.5  0.6  0.7  0.8  0.9]\n",
      "n: [  1.   1.   1.   1.   2.   2.   3.   5.  12.  61.]\n",
      "Q: [ 0.61406194  0.77421957  0.86000319  0.94442812  0.84420577  0.91776449\n",
      "  0.96404516  0.97801453  0.97755944  0.97843372]\n",
      "argmaxQ: 9 maxQ: 0.978433721271\n",
      "all rewards: [0.0, 0.1, 0.2, 0.3, 0.4, 0.5, 0.6, 0.7, 0.8, 0.9]\n",
      "m_bar: [ 0.   0.1  0.2  0.3  0.4  0.5  0.6  0.7  0.8  0.9]\n",
      "n: [  1.   1.   1.   1.   2.   2.   3.   5.  12.  62.]\n",
      "Q: [ 0.61482575  0.77498338  0.86076699  0.94519193  0.84475858  0.91831729\n",
      "  0.96450015  0.97836926  0.97778974  0.97791087]\n",
      "argmaxQ: 7 maxQ: 0.978369255579\n",
      "all rewards: [0.0, 0.1, 0.2, 0.3, 0.4, 0.5, 0.6, 0.7, 0.8, 0.9]\n",
      "m_bar: [ 0.   0.1  0.2  0.3  0.4  0.5  0.6  0.7  0.8  0.9]\n",
      "n: [  1.   1.   1.   1.   2.   2.   3.   6.  12.  62.]\n",
      "Q: [ 0.61558041  0.77573804  0.86152165  0.94594659  0.84530476  0.91886347\n",
      "  0.96494969  0.95466366  0.97801728  0.97801131]\n",
      "argmaxQ: 8 maxQ: 0.978017279258\n",
      "all rewards: [0.0, 0.1, 0.2, 0.3, 0.4, 0.5, 0.6, 0.7, 0.8, 0.9]\n",
      "m_bar: [ 0.   0.1  0.2  0.3  0.4  0.5  0.6  0.7  0.8  0.9]\n",
      "n: [  1.   1.   1.   1.   2.   2.   3.   6.  13.  62.]\n",
      "Q: [ 0.61632612  0.77648375  0.86226737  0.9466923   0.84584447  0.91940318\n",
      "  0.9653939   0.95498032  0.9713553   0.97811056]\n",
      "argmaxQ: 9 maxQ: 0.978110558353\n",
      "all rewards: [0.0, 0.1, 0.2, 0.3, 0.4, 0.5, 0.6, 0.7, 0.8, 0.9]\n",
      "m_bar: [ 0.   0.1  0.2  0.3  0.4  0.5  0.6  0.7  0.8  0.9]\n",
      "n: [  1.   1.   1.   1.   2.   2.   3.   6.  13.  63.]\n",
      "Q: [ 0.6170631   0.77722073  0.86300434  0.94742927  0.84637785  0.91993656\n",
      "  0.9658329   0.95529328  0.97156885  0.97759571]\n",
      "argmaxQ: 9 maxQ: 0.977595714075\n",
      "all rewards: [0.0, 0.1, 0.2, 0.3, 0.4, 0.5, 0.6, 0.7, 0.8, 0.9]\n",
      "m_bar: [ 0.   0.1  0.2  0.3  0.4  0.5  0.6  0.7  0.8  0.9]\n",
      "n: [  1.   1.   1.   1.   2.   2.   3.   6.  13.  64.]\n",
      "Q: [ 0.61779153  0.77794915  0.86373277  0.9481577   0.84690505  0.92046376\n",
      "  0.96626681  0.95560261  0.97177993  0.97709246]\n",
      "argmaxQ: 9 maxQ: 0.977092464295\n",
      "all rewards: [0.0, 0.1, 0.2, 0.3, 0.4, 0.5, 0.6, 0.7, 0.8, 0.9]\n",
      "m_bar: [ 0.   0.1  0.2  0.3  0.4  0.5  0.6  0.7  0.8  0.9]\n",
      "n: [  1.   1.   1.   1.   2.   2.   3.   6.  13.  65.]\n",
      "Q: [ 0.6185116   0.77866923  0.86445284  0.94887778  0.8474262   0.92098491\n",
      "  0.96669575  0.95590839  0.97198859  0.97660037]\n",
      "argmaxQ: 9 maxQ: 0.97660036781\n",
      "all rewards: [0.0, 0.1, 0.2, 0.3, 0.4, 0.5, 0.6, 0.7, 0.8, 0.9]\n",
      "m_bar: [ 0.   0.1  0.2  0.3  0.4  0.5  0.6  0.7  0.8  0.9]\n",
      "n: [  1.   1.   1.   1.   2.   2.   3.   6.  13.  66.]\n",
      "Q: [ 0.6192235   0.77938113  0.86516474  0.94958967  0.84794143  0.92150015\n",
      "  0.96711981  0.9562107   0.97219488  0.97611901]\n",
      "argmaxQ: 9 maxQ: 0.97611900677\n",
      "all rewards: [0.0, 0.1, 0.2, 0.3, 0.4, 0.5, 0.6, 0.7, 0.8, 0.9]\n",
      "m_bar: [ 0.   0.1  0.2  0.3  0.4  0.5  0.6  0.7  0.8  0.9]\n",
      "n: [  1.   1.   1.   1.   2.   2.   3.   6.  13.  67.]\n",
      "Q: [ 0.6199274   0.78008503  0.86586864  0.95029358  0.84845088  0.92200959\n",
      "  0.96753912  0.95650961  0.97239886  0.97564799]\n",
      "argmaxQ: 9 maxQ: 0.975647985114\n",
      "all rewards: [0.0, 0.1, 0.2, 0.3, 0.4, 0.5, 0.6, 0.7, 0.8, 0.9]\n",
      "m_bar: [ 0.   0.1  0.2  0.3  0.4  0.5  0.6  0.7  0.8  0.9]\n",
      "n: [  1.   1.   1.   1.   2.   2.   3.   6.  13.  68.]\n",
      "Q: [ 0.62062348  0.7807811   0.86656472  0.95098965  0.84895466  0.92251338\n",
      "  0.96795376  0.9568052   0.97260056  0.97518693]\n",
      "argmaxQ: 9 maxQ: 0.975186927121\n",
      "all rewards: [0.0, 0.1, 0.2, 0.3, 0.4, 0.5, 0.6, 0.7, 0.8, 0.9]\n",
      "m_bar: [ 0.   0.1  0.2  0.3  0.4  0.5  0.6  0.7  0.8  0.9]\n",
      "n: [  1.   1.   1.   1.   2.   2.   3.   6.  13.  69.]\n",
      "Q: [ 0.62131189  0.78146952  0.86725314  0.95167807  0.8494529   0.92301162\n",
      "  0.96836384  0.95709753  0.97280005  0.97473548]\n",
      "argmaxQ: 9 maxQ: 0.974735476089\n",
      "all rewards: [0.0, 0.1, 0.2, 0.3, 0.4, 0.5, 0.6, 0.7, 0.8, 0.9]\n",
      "m_bar: [ 0.   0.1  0.2  0.3  0.4  0.5  0.6  0.7  0.8  0.9]\n",
      "n: [  1.   1.   1.   1.   2.   2.   3.   6.  13.  70.]\n"
     ]
    },
    {
     "data": {
      "text/plain": [
       "array([ 1.,  2.,  6.,  3.,  7.,  4.,  8.,  5.,  0.,  9.,  9.,  8.,  9.,\n",
       "        7.,  9.,  8.,  9.,  9.,  6.,  9.,  8.,  9.,  9.,  7.,  9.,  9.,\n",
       "        8.,  9.,  9.,  9.,  9.,  8.,  9.,  9.,  9.,  9.,  9.,  8.,  7.,\n",
       "        9.,  9.,  9.,  5.,  9.,  9.,  8.,  9.,  6.,  9.,  9.,  9.,  9.,\n",
       "        9.,  8.,  9.,  9.,  9.,  9.,  9.,  9.,  7.,  9.,  4.,  8.,  9.,\n",
       "        9.,  9.,  9.,  9.,  9.,  9.,  8.,  9.,  9.,  9.,  9.,  9.,  9.,\n",
       "        9.,  9.,  8.,  9.,  9.,  9.,  9.,  9.,  9.,  9.,  9.,  9.,  7.,\n",
       "        8.,  9.,  9.,  9.,  9.,  9.,  9.,  9.,  9.])"
      ]
     },
     "execution_count": 244,
     "metadata": {},
     "output_type": "execute_result"
    }
   ],
   "source": [
    "priors = [random.random() for i in range(10)]\n",
    "print(priors)\n",
    "prior_var = 0.5\n",
    "variance = 0.05\n",
    "n = 10\n",
    "T = 100\n",
    "m = [i/10 for i in range(10)]\n",
    "\n",
    "\n",
    "deterministic_ucl(priors,prior_var,variance,n,T,m,random_rewards=False)"
   ]
  },
  {
   "cell_type": "markdown",
   "metadata": {},
   "source": [
    "**Stochastic UCL algorithm**"
   ]
  },
  {
   "cell_type": "code",
   "execution_count": 59,
   "metadata": {
    "collapsed": true
   },
   "outputs": [],
   "source": [
    " def find_min_diff(arr, n): \n",
    "    \"\"\"\n",
    "    Returns minimum difference between any pair of elements in an array\n",
    "    \n",
    "    arr - numpy array\n",
    "    n - number of elements in the array used in the process\n",
    "    \"\"\"\n",
    "    \n",
    "    # Sort array in non-decreasing order \n",
    "    arr = sorted(arr) \n",
    "  \n",
    "    # Initialize difference as infinite \n",
    "    diff = 10**20\n",
    "  \n",
    "    # Find the min diff by comparing adjacent \n",
    "    # pairs in sorted array \n",
    "    for i in range(n-1): \n",
    "        if abs(arr[i+1] - arr[i]) < diff: \n",
    "            diff = abs(arr[i+1] - arr[i]) \n",
    "  \n",
    "    # Return min diff \n",
    "    return diff"
   ]
  },
  {
   "cell_type": "code",
   "execution_count": 60,
   "metadata": {
    "collapsed": false
   },
   "outputs": [],
   "source": [
    "def stochastic_ucl(prior_means,prior_variance,variance,n_arms,time_horizon,arms):\n",
    "    \"\"\"\n",
    "    Inputs: \n",
    "    prior_means - an array of prior means about the pay-offs of the arms\n",
    "    prior_variance - prior variance characterising the prior Gaussian distribution, constant for all arms\n",
    "    variance - variance of Gaussian distributions of each arm, constant for all arms, assumed known before the game begins\n",
    "    n_arms - number of arms of the MAB\n",
    "    time_horizon - number of time steps of the game\n",
    "    arms - a list or array of arms together with their reward distribution\n",
    "    \n",
    "    Output : allocation sequence of arms over the time horizon\n",
    "    \"\"\"\n",
    "    \n",
    "    #### Initialisation\n",
    "    \n",
    "    # n[i] denotes the number of pulls of the arm i in t-1 peridos\n",
    "    n = np.zeros(n_arms)\n",
    "    \n",
    "    # m_bar[i] denotes the mean pay-off as observed in t-1 periods\n",
    "    m_bar = np.zeros(n_arms)\n",
    "    \n",
    "    # normalise variance\n",
    "    delta_sq = variance / prior_variance\n",
    "    \n",
    "    # K is a tuner variable\n",
    "    K = math.sqrt(2*math.pi*math.e)\n",
    "    \n",
    "    T_0_end = 0\n",
    "    \n",
    "    # rewards array\n",
    "    rewards = np.zeros(time_horizon)\n",
    "    \n",
    "    # allocation sequence (output)\n",
    "    alloc_seq = np.zeros(time_horizon)\n",
    "    \n",
    "    \n",
    "    #### First arm\n",
    "    \n",
    "    # Pick the first arm based on the highest prior mean\n",
    "    alloc_seq[0] = np.argmax(prior_means)\n",
    "    \n",
    "    # claim the reward from that arm\n",
    "    # initialise a list of rewards\n",
    "    all_rewards = [arms[i].draw() for i in range(n_arms)]\n",
    "    rewards[0] = all_rewards[np.argmax(prior_means)]\n",
    "    \n",
    "    #### Iteration\n",
    "    #  at each time pick an arm using Boltzmann probability distribution\n",
    "    for t in range(1,time_horizon):\n",
    "        \n",
    "        # initialise the values of the heuristic function for each arm\n",
    "        Q = np.zeros(n_arms)\n",
    "        \n",
    "        # initialise a list of rewards\n",
    "        all_rewards = [arms[i].draw() for i in range(n_arms)]\n",
    "        \n",
    "        #print (\"rewards:\",all_rewards)\n",
    "        \n",
    "        for i in range(n_arms):\n",
    "            \n",
    "            # Compute a heuristic value for the current arm\n",
    "            Q[i] = (delta_sq*prior_means[i]+n[i]*m_bar[i])/(delta_sq+n[i]) + math.sqrt(variance/(delta_sq+n[i]))*norm.ppf(1-1/(K*(t+1)))\n",
    "        \n",
    "        # find the minimum gap of the heuristic function value between any two arms\n",
    "        delta_Q_min = find_min_diff(Q,n_arms)\n",
    "        \n",
    "        # define the cooling schedule\n",
    "        v = delta_Q_min/(2*math.log(t+1))\n",
    "        \n",
    "        # select an arm with the highest probability\n",
    "        P = np.exp(Q/v)/np.sum(np.exp(Q/v))\n",
    "        \n",
    "        \"\"\"print(\"Q:\",Q)\n",
    "        print(\"v:\",v)\n",
    "        print (\"P:\",P)\"\"\"\n",
    "        \n",
    "        selected_arm = np.argmax(P)\n",
    "        alloc_seq[t] = selected_arm\n",
    "        \n",
    "        # collect reward m_real\n",
    "        rewards[t] = all_rewards[selected_arm]\n",
    "        \n",
    "        # update variables\n",
    "        m_bar[selected_arm] = (n[selected_arm]*m_bar[selected_arm] + all_rewards[selected_arm]) / (n[selected_arm] + 1)\n",
    "        n[selected_arm] += 1\n",
    "    \n",
    "    return alloc_seq"
   ]
  },
  {
   "cell_type": "code",
   "execution_count": 61,
   "metadata": {
    "collapsed": false
   },
   "outputs": [
    {
     "name": "stdout",
     "output_type": "stream",
     "text": [
      "[0.47162541509628797, 0.40990539565755457, 0.5691127395242802, 0.5086001300626332, 0.3114460010002068, 0.35715168259026286, 0.837661174368979, 0.25093266482213705, 0.560600218853524, 0.012436318829314397]\n"
     ]
    },
    {
     "data": {
      "text/plain": [
       "array([ 6.,  6.,  2.,  8.,  3.,  0.,  1.,  5.,  4.,  0.])"
      ]
     },
     "execution_count": 61,
     "metadata": {},
     "output_type": "execute_result"
    }
   ],
   "source": [
    "n = 10\n",
    "priors = [random.random() for i in range(n)]\n",
    "print (priors)\n",
    "prior_var = 0.5\n",
    "variance = 0.05\n",
    "T = 10\n",
    "m = [Gaussian_0_1(random.random(),variance) for i in range(n)]\n",
    "\n",
    "\n",
    "stochastic_ucl(priors,prior_var,variance,n,T,m)"
   ]
  },
  {
   "cell_type": "code",
   "execution_count": 62,
   "metadata": {
    "collapsed": false
   },
   "outputs": [
    {
     "name": "stdout",
     "output_type": "stream",
     "text": [
      "15\n"
     ]
    },
    {
     "data": {
      "text/plain": [
       "array([ 0.05801222,  0.09564598,  0.15769356,  0.25999272,  0.42865553])"
      ]
     },
     "execution_count": 62,
     "metadata": {},
     "output_type": "execute_result"
    }
   ],
   "source": [
    "a = np.array([1,2,3,4,5])\n",
    "print (np.sum(a))\n",
    "\n",
    "np.exp(a/2)/np.sum(np.exp(a/2))"
   ]
  },
  {
   "cell_type": "markdown",
   "metadata": {},
   "source": [
    "**Block UCL algorithm**"
   ]
  },
  {
   "cell_type": "markdown",
   "metadata": {},
   "source": [
    "See also http://www.princeton.edu/~naomi/publications/2013/Allerton2013ol.pdf for modelling bandits as a foraging problem"
   ]
  },
  {
   "cell_type": "code",
   "execution_count": 70,
   "metadata": {
    "collapsed": false
   },
   "outputs": [],
   "source": [
    "def block_ucl(prior_means,prior_variance,variance,n_arms,time_horizon, arms, random_rewards = True):\n",
    "    \"\"\"\n",
    "    Inputs: \n",
    "    prior_means - an array of prior means about the pay-offs of the arms\n",
    "    prior_variance - prior variance characterising the prior Gaussian distribution, constant for all arms\n",
    "    variance - variance of Gaussian distributions of each arm, constant for all arms, assumed known before the game begins\n",
    "    n_arms - number of arms of the MAB\n",
    "    time_horizon - number of time steps of the game\n",
    "    arms - set of arms, either input as a probability distribtion (Gaussian) or as an array of pay-offs for each arm\n",
    "    random_rewards - True if the rewards are drawn i.i.d. from Gaussian distribution at each time step\n",
    "    \n",
    "    Output : allocation sequence of arms over the time horizon\n",
    "    \"\"\"\n",
    "    \n",
    "    \n",
    "    #### Initialisation\n",
    "    \n",
    "    # n[i] denotes the number of pulls of the arm i in t-1 peridos\n",
    "    n = np.zeros(n_arms)\n",
    "    \n",
    "    # m_bar[i] denotes the mean pay-off as observed in t-1 periods\n",
    "    m_bar = np.zeros(n_arms)\n",
    "    \n",
    "    # normalise variance\n",
    "    delta_sq = variance / prior_variance\n",
    "    \n",
    "    # K is a tuner variable\n",
    "    K = math.sqrt(2*math.pi*math.e)\n",
    "    \n",
    "    # rewards array\n",
    "    rewards = np.zeros(time_horizon)\n",
    "    \n",
    "    # allocation sequence (output)\n",
    "    alloc_seq = np.zeros(time_horizon)\n",
    "    \n",
    "    # initialise the values of the heuristic function for each arm\n",
    "    Q = np.zeros(n_arms)\n",
    "    \n",
    "    \n",
    "    #### Iteration\n",
    "    # at each allocation round pick the arm with maximum upper credible limit\n",
    "    \n",
    "    # let l be the smallest index s.t. T<2^l\n",
    "    l = math.ceil(math.exp(math.log(T)/2))\n",
    "    \n",
    "    \n",
    "    for k in range(1,l+1):\n",
    "        \n",
    "        # let bk be the total number of blocks in frame fk:\n",
    "        bk = math.ceil((2**(k-1))/k)\n",
    "        \n",
    "        for r in range(1,bk+1):\n",
    "            tau = 2**(k-1) + (r-1)*k\n",
    "            \n",
    "            for i in range(n_arms):\n",
    "                # Compute a heuristic value for the current arm\n",
    "                Q[i] = (delta_sq*prior_means[i]+n[i]*m_bar[i])/(delta_sq+n[i]) + math.sqrt(variance/(delta_sq+n[i]))*norm.ppf(1-1/(K*(tau)))\n",
    "            \n",
    "            # select an arm with the maximum value of the heuristic function\n",
    "            i_hat = np.argmax(Q)\n",
    "            \n",
    "            #print (k,tau,2**(k)-tau)\n",
    "            \n",
    "            if 2**(k)-tau >= k:\n",
    "                \n",
    "                #print (\"1\")\n",
    "                \n",
    "                # select the same arm for the whole duration of the block\n",
    "                for t in range(tau,tau+k):\n",
    "                    \n",
    "                    # terminate the algorithm and return the allocation sequence if the we are past the last time step\n",
    "                    if t-1>=time_horizon:\n",
    "                        return alloc_seq\n",
    "                    \n",
    "                    #print(\"if\",t-1)\n",
    "                    \n",
    "                    if random_rewards == True:\n",
    "                        # initialise a list of rewards\n",
    "                        all_rewards = [arms[i].draw() for i in range(n_arms)]\n",
    "                    else:\n",
    "                        all_rewards = arms\n",
    "                    \n",
    "                    alloc_seq[t-1] = i_hat\n",
    "                \n",
    "                    #collect reward\n",
    "                    rewards[t-1] = all_rewards[i_hat]\n",
    "                    \n",
    "                    # update variables\n",
    "                    m_bar[i_hat] = (n[i_hat]*m_bar[i_hat]+all_rewards[i_hat])/(n[i_hat]+1)\n",
    "                    n[i_hat] +=1\n",
    "                    \n",
    "            else:\n",
    "                \n",
    "                #print (\"2\")\n",
    "                \n",
    "                \n",
    "                for t in range(tau,2**(k)):\n",
    "                    \n",
    "                    # terminate the algorithm and return the allocation sequence if the we are past the last time step\n",
    "                    if t-1>=time_horizon:\n",
    "                        return alloc_seq\n",
    "                    \n",
    "                    #print(\"else\",t-1)\n",
    "                    \n",
    "                    if random_rewards == True:\n",
    "                        # initialise a list of rewards\n",
    "                        all_rewards = [arms[i].draw() for i in range(n_arms)]\n",
    "                    else:\n",
    "                        all_rewards = arms\n",
    "                    \n",
    "                    \n",
    "                    alloc_seq[t-1] = i_hat\n",
    "                \n",
    "                    #colect reward\n",
    "                    rewards[t-1] = all_rewards[i_hat]\n",
    "                    \n",
    "                    # update variables\n",
    "                    m_bar[i_hat] = (n[i_hat]*m_bar[i_hat]+all_rewards[i_hat])/(n[i_hat]+1)\n",
    "                    n[i_hat] +=1\n",
    "                    \n",
    "    return alloc_seq                "
   ]
  },
  {
   "cell_type": "code",
   "execution_count": 233,
   "metadata": {
    "collapsed": false
   },
   "outputs": [
    {
     "name": "stdout",
     "output_type": "stream",
     "text": [
      "[0, 1, 2, 3, 4, 5, 6, 7, 8, 9]\n"
     ]
    },
    {
     "data": {
      "text/plain": [
       "array([ 0.,  1.,  1.,  2.,  2.,  2.,  3.,  4.,  4.,  4.])"
      ]
     },
     "execution_count": 233,
     "metadata": {},
     "output_type": "execute_result"
    }
   ],
   "source": [
    "n = 10\n",
    "priors = [1 for i in range(n)]\n",
    "prior_var = 10**30\n",
    "variance = 0.05\n",
    "T = 10\n",
    "m = [i for i in range(n)]\n",
    "print (m)\n",
    "\n",
    "\n",
    "block_ucl(priors,prior_var,variance,n,T,m,random_rewards=False)\n"
   ]
  },
  {
   "cell_type": "markdown",
   "metadata": {},
   "source": [
    "## Other algorithms"
   ]
  },
  {
   "cell_type": "markdown",
   "metadata": {},
   "source": [
    "**Thompson Sampling**"
   ]
  },
  {
   "cell_type": "markdown",
   "metadata": {},
   "source": [
    "See https://courses.cs.washington.edu/courses/cse599i/18wi/resources/lecture3/lecture3.pdf, page 13"
   ]
  },
  {
   "cell_type": "code",
   "execution_count": 320,
   "metadata": {
    "collapsed": false
   },
   "outputs": [],
   "source": [
    "def thompson(n_arms,time_horizon,arms=[],random_rewards=True):\n",
    "    \"\"\"\n",
    "    Inputs:\n",
    "    Arms 1 through n_arms, max steps time_horzin\n",
    "    \"\"\"\n",
    "    \n",
    "    #### Initialisation\n",
    "    # S[i] denotes the number of successes of arm i so far\n",
    "    S = np.zeros(n_arms)\n",
    "    \n",
    "    # F[i] denotes the number of failures of arm i so far\n",
    "    F = np.zeros(n_arms)\n",
    "    \n",
    "    # T[i] denotes the total number of plays of arm i so far\n",
    "    T = np.zeros(n_arms)\n",
    "    \n",
    "    # rewards array\n",
    "    rewards = np.zeros(time_horizon)\n",
    "    \n",
    "    # allocation sequence (output)\n",
    "    alloc_seq = np.zeros(time_horizon)\n",
    "    \n",
    "    \n",
    "    #### Iteration\n",
    "    for t in range(time_horizon):\n",
    "        # Draw each \\mu_i according to the posterior distribution\n",
    "        mu = np.random.beta(1+S, 1+F)\n",
    "        # play an arm according to the probability of its mean being the largest\n",
    "        play = np.argmax(mu)\n",
    "        alloc_seq[t] = play\n",
    "        \n",
    "        # Increment the total counter for the played arms\n",
    "        T[play] += 1\n",
    "        \n",
    "        if random_rewards:\n",
    "            # Observe reward\n",
    "            r = bernoulli.rvs(mu[play])\n",
    "            rewards[t] = r\n",
    "        else:\n",
    "            # get reward from arms\n",
    "            rewards[t] = arms[play]\n",
    "\n",
    "        # Update success counter appropriately\n",
    "        S[play] += 1\n",
    "        \n",
    "        # Update failure counter appropriately\n",
    "        F[play] += 1\n",
    "        \n",
    "    return alloc_seq"
   ]
  },
  {
   "cell_type": "code",
   "execution_count": 317,
   "metadata": {
    "collapsed": false
   },
   "outputs": [
    {
     "name": "stdout",
     "output_type": "stream",
     "text": [
      "[ 0.54865001  0.48986674  0.74590334  0.52321749  0.96012512  0.80605068\n",
      "  0.36495428  0.86849538  0.14865332  0.86763263]\n"
     ]
    },
    {
     "data": {
      "text/plain": [
       "array([ 7.,  7.,  3.,  5.,  6.,  4.,  4.,  5.,  2.,  3.])"
      ]
     },
     "execution_count": 317,
     "metadata": {},
     "output_type": "execute_result"
    }
   ],
   "source": [
    "theta = np.random.beta(1, 1,10)\n",
    "\n",
    "print (theta)\n",
    "\n",
    "bernoulli.rvs(0.7)\n",
    "\n",
    "thompson(10,10)"
   ]
  },
  {
   "cell_type": "markdown",
   "metadata": {},
   "source": [
    "# Gaussian random fields"
   ]
  },
  {
   "cell_type": "markdown",
   "metadata": {},
   "source": [
    "## Discrete Gaussian random field"
   ]
  },
  {
   "cell_type": "code",
   "execution_count": 67,
   "metadata": {
    "collapsed": true
   },
   "outputs": [],
   "source": [
    "def fftind(size):\n",
    "    \"\"\" Returns a numpy array of shifted Fourier coordinates k_x k_y.\n",
    "        \n",
    "        Input:\n",
    "        size (integer): The size of the coordinate array to create\n",
    "        \n",
    "        Output:\n",
    "            k_ind, numpy array of shape (2, size, size) with:\n",
    "                k_ind[0,:,:]:  k_x components\n",
    "                k_ind[1,:,:]:  k_y components\n",
    "    \"\"\"\n",
    "    k_ind = np.mgrid[:size, :size] - int( (size + 1)/2 )\n",
    "    k_ind = scipy.fftpack.fftshift(k_ind)\n",
    "    return( k_ind )"
   ]
  },
  {
   "cell_type": "code",
   "execution_count": 68,
   "metadata": {
    "collapsed": true
   },
   "outputs": [],
   "source": [
    "def gaussian_random_field(alpha = 3.0, size = 128, flag_normalize = True):\n",
    "    \"\"\" \n",
    "    Returns a numpy array of sizexsize discrete Gaussian random field\n",
    "        \n",
    "    Input:\n",
    "    alpha (double, default = 3.0): \n",
    "        The power of the power-law momentum distribution\n",
    "    size (integer, default = 128):\n",
    "        The size of the square output Gaussian Random Fields\n",
    "    flag_normalize (boolean, default = True):\n",
    "        Normalizes the Gaussian Field:\n",
    "            - to have an average of 0.0\n",
    "            - to have a standard deviation of 1.0\n",
    "    Output:\n",
    "    gfield (numpy array of shape (size, size)):\n",
    "        The random gaussian random field\n",
    "\n",
    "    Example:\n",
    "    import matplotlib\n",
    "    import matplotlib.pyplot as plt\n",
    "    example = gaussian_random_field()\n",
    "    plt.imshow(example)\n",
    "    \"\"\"\n",
    "        \n",
    "        # Defines momentum indices\n",
    "    k_idx = fftind(size)\n",
    "\n",
    "        # Defines the amplitude as a power law 1/|k|^(alpha/2)\n",
    "    amplitude = np.power( k_idx[0]**2 + k_idx[1]**2 + 1e-10, -alpha/4.0 )\n",
    "    amplitude[0,0] = 0\n",
    "    \n",
    "        # Draws a complex gaussian random noise with normal\n",
    "        # (circular) distribution\n",
    "    noise = np.random.normal(size = (size, size)) \\\n",
    "        + 1j * np.random.normal(size = (size, size))\n",
    "    \n",
    "        # To real space\n",
    "    gfield = np.fft.ifft2(noise * amplitude).real\n",
    "    \n",
    "        # Sets the standard deviation to one\n",
    "    if flag_normalize:\n",
    "        gfield = gfield - np.mean(gfield)\n",
    "        gfield = gfield/np.std(gfield)\n",
    "        \n",
    "    return gfield\n"
   ]
  },
  {
   "cell_type": "code",
   "execution_count": 339,
   "metadata": {
    "collapsed": false
   },
   "outputs": [
    {
     "data": {
      "image/png": "[encoded data removed]",
      "text/plain": [
       "<Figure size 432x288 with 1 Axes>"
      ]
     },
     "metadata": {},
     "output_type": "display_data"
    },
    {
     "data": {
      "text/plain": [
       "Text(0.5,1,'Profiles')"
      ]
     },
     "execution_count": 339,
     "metadata": {},
     "output_type": "execute_result"
    },
    {
     "data": {
      "image/png": "[encoded data removed]",
      "text/plain": [
       "<Figure size 432x288 with 1 Axes>"
      ]
     },
     "metadata": {},
     "output_type": "display_data"
    }
   ],
   "source": [
    "example = gaussian_random_field(size = 1000, flag_normalize = False)\n",
    "plt.imshow(example, cmap='Purples')\n",
    "plt.show()\n",
    "plt.plot(example[:,0])\n",
    "plt.plot(example[0,:])\n",
    "plt.title('Profiles')"
   ]
  },
  {
   "cell_type": "markdown",
   "metadata": {},
   "source": [
    "## Continuous Gaussian random field"
   ]
  },
  {
   "cell_type": "code",
   "execution_count": 337,
   "metadata": {
    "collapsed": false
   },
   "outputs": [
    {
     "ename": "ImportError",
     "evalue": "No module named 'gaussian_random_field'",
     "output_type": "error",
     "traceback": [
      "\u001b[0;31m---------------------------------------------------------------------------\u001b[0m",
      "\u001b[0;31mImportError\u001b[0m                               Traceback (most recent call last)",
      "\u001b[0;32m<ipython-input-337-d6bcae826567>\u001b[0m in \u001b[0;36m<module>\u001b[0;34m()\u001b[0m\n\u001b[0;32m----> 1\u001b[0;31m \u001b[1;32mimport\u001b[0m \u001b[0mgaussian_random_field\u001b[0m\u001b[1;33m\u001b[0m\u001b[0m\n\u001b[0m",
      "\u001b[0;31mImportError\u001b[0m: No module named 'gaussian_random_field'"
     ]
    }
   ],
   "source": [
    "import gaussian_random_field"
   ]
  },
  {
   "cell_type": "markdown",
   "metadata": {},
   "source": [
    "# Single agent in a static discrete random field"
   ]
  },
  {
   "cell_type": "code",
   "execution_count": null,
   "metadata": {
    "collapsed": true
   },
   "outputs": [],
   "source": [
    "Simple simulations: a single agent is places in an environment with unlimited movement"
   ]
  },
  {
   "cell_type": "markdown",
   "metadata": {},
   "source": [
    "Place an $n$-armed bandit into a $\\sqrt{n} \\sqrt{n}$ Gaussian random field, where each cell in the grid corresponds to an arm. The pay-off is determined by the underlying random field"
   ]
  },
  {
   "cell_type": "markdown",
   "metadata": {},
   "source": [
    "**Determinstic algorithm**"
   ]
  },
  {
   "cell_type": "code",
   "execution_count": 181,
   "metadata": {
    "collapsed": true
   },
   "outputs": [],
   "source": [
    "def field_to_arms(rand_field):\n",
    "    \"\"\"\n",
    "    transforms an nxn grid generated as a random field to set of n^2 arms\n",
    "    \n",
    "    rand_field - Gaussian random field\n",
    "    \"\"\"\n",
    "    return rand_field.ravel()"
   ]
  },
  {
   "cell_type": "code",
   "execution_count": 303,
   "metadata": {
    "collapsed": true
   },
   "outputs": [],
   "source": [
    "def arms_to_field(arms,n):\n",
    "    \"\"\"\n",
    "    Transforms an allocation sequence to sequence of 2D coordinates in the same structure as the field\n",
    "    \n",
    "    arms - an allocation sequence\n",
    "    \"\"\"\n",
    "    return arms%n,arms//n \n",
    "    "
   ]
  },
  {
   "cell_type": "code",
   "execution_count": 182,
   "metadata": {
    "collapsed": false
   },
   "outputs": [
    {
     "data": {
      "text/plain": [
       "array([-0.0255534 ,  0.00330692, -0.00195368, -0.02635594, -0.02646589,\n",
       "       -0.02528065, -0.01666669, -0.02405314, -0.03633778, -0.02008779,\n",
       "        0.00896994,  0.01559294,  0.00265515, -0.04109528, -0.0526478 ,\n",
       "       -0.02942347, -0.00437601, -0.01230224,  0.00596488,  0.03264737,\n",
       "        0.03374268,  0.01520349,  0.00284715, -0.03200421, -0.02883378,\n",
       "       -0.02605196, -0.00810157, -0.00795971,  0.03066385,  0.03278083,\n",
       "       -0.01984957, -0.00536542,  0.00707734,  0.00449407,  0.01686475,\n",
       "        0.00556161,  0.01010788,  0.00424495,  0.00490529,  0.0012753 ,\n",
       "       -0.01818378,  0.01080331,  0.02628242,  0.05281121,  0.05356537,\n",
       "        0.05944666,  0.0280091 ,  0.02229251, -0.01432774, -0.02007716,\n",
       "        0.01585828,  0.03257648,  0.04641218,  0.04622255,  0.06909221,\n",
       "        0.08061609,  0.00926008, -0.02514465, -0.01966272, -0.01211978,\n",
       "        0.00580622,  0.01030631,  0.00327452,  0.02709181,  0.06562556,\n",
       "        0.07558737,  0.02556102, -0.01441646, -0.05158084, -0.02783213,\n",
       "       -0.00753214, -0.01617876, -0.04191008, -0.0221575 ,  0.02110793,\n",
       "        0.0483805 ,  0.02000548, -0.00817875, -0.03118787, -0.02618717,\n",
       "        0.005459  ,  0.01084019, -0.02740041, -0.00821281, -0.00182976,\n",
       "       -0.01224569, -0.01490981, -0.02361332, -0.02118211, -0.00864626,\n",
       "       -0.01642992,  0.01409065, -0.02197057, -0.02540231, -0.00363919,\n",
       "       -0.01430066, -0.00445285, -0.02444163, -0.04340541, -0.02576518])"
      ]
     },
     "execution_count": 182,
     "metadata": {},
     "output_type": "execute_result"
    }
   ],
   "source": [
    "field_to_arms(example)"
   ]
  },
  {
   "cell_type": "code",
   "execution_count": 329,
   "metadata": {
    "collapsed": false,
    "scrolled": false
   },
   "outputs": [
    {
     "data": {
      "image/png": "[encoded data removed]",
      "text/plain": [
       "<Figure size 432x288 with 1 Axes>"
      ]
     },
     "metadata": {},
     "output_type": "display_data"
    }
   ],
   "source": [
    "### Create an animation with a single bandit\n",
    "\n",
    "# retreive a Gaussian random field\n",
    "field = gaussian_random_field(size = 20, flag_normalize = True)\n",
    "plt.imshow(field, cmap='Purples')\n",
    "\n",
    "n = 400\n",
    "priors = [random.random() for i in range(n)]\n",
    "print (np.argmax(priors))\n",
    "prior_var = 10*30 # uninformative priors has variance -> infinity\n",
    "variance = 1\n",
    "T = 100\n",
    "m = field_to_arms(field)\n",
    "# print (np.argmax(m),np.max(m))\n",
    "# print (m)\n",
    "\n",
    "result = arms_to_field(deterministic_ucl(priors,prior_var,variance,n,T,m,random_rewards=False),20)\n",
    "\n",
    "#print (arms_to_field(result)[0][2])\n",
    "\n",
    "# plt.scatter(arms_to_field(result)[0],arms_to_field(result)[1])\n",
    "\n",
    "for l in range(100):\n",
    "    plt.clf()\n",
    "    plt.imshow(field, cmap='Purples')\n",
    "    plt.scatter(result[0][l],result[1][l],color='r')\n",
    "    #plt.show()\n",
    "    display.display(plt.gcf())\n",
    "    display.clear_output(wait=True)"
   ]
  },
  {
   "cell_type": "markdown",
   "metadata": {},
   "source": [
    "**Stochastic algortithm: Thompson sampling**"
   ]
  },
  {
   "cell_type": "code",
   "execution_count": 340,
   "metadata": {
    "collapsed": false
   },
   "outputs": [
    {
     "data": {
      "image/png": "[encoded data removed]",
      "text/plain": [
       "<Figure size 432x288 with 1 Axes>"
      ]
     },
     "metadata": {},
     "output_type": "display_data"
    }
   ],
   "source": [
    "### Create an animation with a single bandit\n",
    "\n",
    "# retreive a Gaussian random field\n",
    "field = gaussian_random_field(size = 20, flag_normalize = True)\n",
    "plt.imshow(field, cmap='Purples')\n",
    "\n",
    "n = 400\n",
    "priors = [random.random() for i in range(n)]\n",
    "print (np.argmax(priors))\n",
    "prior_var = 1 # uninformative priors has variance -> infinity\n",
    "variance = 1\n",
    "T = 100\n",
    "m = field_to_arms(field)\n",
    "# print (np.argmax(m),np.max(m))\n",
    "# print (m)\n",
    "\n",
    "result = arms_to_field(thompson(n,T,arms=m,random_rewards=False),20)\n",
    "\n",
    "#print (arms_to_field(result)[0][2])\n",
    "\n",
    "# plt.scatter(arms_to_field(result)[0],arms_to_field(result)[1])\n",
    "\n",
    "for l in range(100):\n",
    "    plt.clf()\n",
    "    plt.imshow(field, cmap='Purples')\n",
    "    plt.scatter(result[0][l],result[1][l],color='r')\n",
    "    #plt.show()\n",
    "    display.display(plt.gcf())\n",
    "    display.clear_output(wait=True)"
   ]
  },
  {
   "cell_type": "markdown",
   "metadata": {},
   "source": [
    "**Block algorithm**\n",
    "\n",
    "Exploration incurs positive transition cost. We assume that the agent can access every arm."
   ]
  },
  {
   "cell_type": "code",
   "execution_count": 330,
   "metadata": {
    "collapsed": false
   },
   "outputs": [
    {
     "data": {
      "image/png": "[encoded data removed]",
      "text/plain": [
       "<Figure size 432x288 with 1 Axes>"
      ]
     },
     "metadata": {},
     "output_type": "display_data"
    }
   ],
   "source": [
    "### Create an animation with a single bandit\n",
    "\n",
    "# retreive a Gaussian random field\n",
    "field = gaussian_random_field(size = 20, flag_normalize = True)\n",
    "plt.imshow(field, cmap='Purples')\n",
    "\n",
    "n = 400\n",
    "priors = [random.random() for i in range(n)]\n",
    "print (np.argmax(priors))\n",
    "prior_var = 10*30 # uninformative priors has variance -> infinity\n",
    "variance = 1\n",
    "T = 100\n",
    "m = field_to_arms(field)\n",
    "# print (np.argmax(m),np.max(m))\n",
    "# print (m)\n",
    "\n",
    "result = arms_to_field(block_ucl(priors,prior_var,variance,n,T,m,random_rewards=False),20)\n",
    "\n",
    "#print (arms_to_field(result)[0][2])\n",
    "\n",
    "# plt.scatter(arms_to_field(result)[0],arms_to_field(result)[1])\n",
    "\n",
    "for l in range(100):\n",
    "    plt.clf()\n",
    "    plt.imshow(field, cmap='Purples')\n",
    "    plt.scatter(result[0][l],result[1][l],color='r')\n",
    "    #plt.show()\n",
    "    display.display(plt.gcf())\n",
    "    display.clear_output(wait=True)"
   ]
  },
  {
   "cell_type": "markdown",
   "metadata": {},
   "source": [
    "# Multiple agents in a static discrete random field"
   ]
  },
  {
   "cell_type": "markdown",
   "metadata": {},
   "source": [
    "Next, we will consider multiple agents in a Gaussian random field moving freely - there are no restrictions on where they can move. Multiple agents can occupy the same cell in the grid. All agents have random priors, so there is no prior informational advantage."
   ]
  },
  {
   "cell_type": "markdown",
   "metadata": {},
   "source": [
    "**Block UCL algorithm**"
   ]
  },
  {
   "cell_type": "code",
   "execution_count": 342,
   "metadata": {
    "collapsed": true
   },
   "outputs": [],
   "source": [
    "def single_agent_moving(n_arms,time_horizon,gauss_field):\n",
    "    \"\"\"\n",
    "    Creates a simulation of single agents moving in a static Gaussian random field\n",
    "    \n",
    "    Inputs:\n",
    "    n_arms - number of arms of the MAB. Same MAB for every agent\n",
    "    time_horizon - total amount of time steps\n",
    "    gauss_field - Gaussian random field\n",
    "    \"\"\"\n",
    "    \n",
    "    #CHANGE PRIORS\n",
    "    \n",
    "    priors = field_to_arms(gauss_field)\n",
    "    prior_var = 10*30 # uninformative priors have variance -> infinity\n",
    "    variance = 1\n",
    "    m = field_to_arms(gauss_field)\n",
    "    \n",
    "    return arms_to_field(block_ucl(priors,prior_var,variance,n_arms,time_horizon,m,random_rewards=False),math.sqrt(n_arms))\n"
   ]
  },
  {
   "cell_type": "code",
   "execution_count": 343,
   "metadata": {
    "collapsed": true
   },
   "outputs": [],
   "source": [
    "def mult_agents_moving(n_agents,n_arms,time_horizon,gauss_field):\n",
    "    \"\"\"\n",
    "    Creates a simulation of multiple agents moving in a static Gaussian random field\n",
    "    \n",
    "    Inputs:\n",
    "    n_agents - number of agents\n",
    "    n_arms - number of arms of the MAB. Same MAB for every agent\n",
    "    time_horizon - total amount of time steps\n",
    "    gauss_field - Gaussian random field\n",
    "    \"\"\"\n",
    "    for l in range(time_horizon):\n",
    "        plt.clf()\n",
    "        plt.imshow(gauss_field, cmap='Purples')\n",
    "        for i in range(n_agents):\n",
    "            result = single_agent_moving(n_arms,time_horizon,gauss_field)\n",
    "            plt.scatter(result[0][l],result[1][l],color='r')\n",
    "        #plt.show()\n",
    "        display.display(plt.gcf())\n",
    "        display.clear_output(wait=True)\n"
   ]
  },
  {
   "cell_type": "code",
   "execution_count": 344,
   "metadata": {
    "collapsed": false
   },
   "outputs": [
    {
     "data": {
      "image/png": "[encoded data removed]",
      "text/plain": [
       "<Figure size 432x288 with 1 Axes>"
      ]
     },
     "metadata": {},
     "output_type": "display_data"
    }
   ],
   "source": [
    "field = gaussian_random_field(size = 20, flag_normalize = True)\n",
    "\n",
    "mult_agents_moving(10,400,10,field)"
   ]
  },
  {
   "cell_type": "markdown",
   "metadata": {},
   "source": [
    "# Single agent in a dynamic discrete random field"
   ]
  },
  {
   "cell_type": "code",
   "execution_count": 349,
   "metadata": {
    "collapsed": true
   },
   "outputs": [],
   "source": [
    "def single_agent_dynamic_field(n_arms,time_horizon,gauss_field,m_steps):\n",
    "    \"\"\"\n",
    "    Creates a simulation of single agents moving in a dynamic Gaussian random field\n",
    "    \n",
    "    Inputs:\n",
    "    n_arms - number of arms of the MAB. Same MAB for every agent\n",
    "    time_horizon - total amount of time steps\n",
    "    gauss_field - initial Gaussian random field\n",
    "    m_steps - number of time steps after which the program generates a new Gaussian random field\n",
    "    \"\"\"\n",
    "    \n",
    "    priors = field_to_arms(gauss_field)\n",
    "    prior_var = 10*30 # uninformative priors have variance -> infinity\n",
    "    variance = 1\n",
    "    m = field_to_arms(gauss_field)\n",
    "    \n",
    "    for l in range(time_horizon):\n",
    "        plt.clf()\n",
    "        \n",
    "        ## change the field every m_steps\n",
    "        if l % m_steps == 0:\n",
    "            field = gaussian_random_field(size = 20, flag_normalize = True)\n",
    "            \n",
    "        plt.imshow(field, cmap='Purples')\n",
    "        m = field_to_arms(field)\n",
    "        result = arms_to_field(block_ucl(priors,prior_var,variance,n_arms,time_horizon,m,random_rewards=False),math.sqrt(n_arms))\n",
    "        plt.scatter(result[0][l],result[1][l],color='r')\n",
    "        #plt.show()\n",
    "        display.display(plt.gcf())\n",
    "        display.clear_output(wait=True)"
   ]
  },
  {
   "cell_type": "code",
   "execution_count": 352,
   "metadata": {
    "collapsed": false,
    "scrolled": false
   },
   "outputs": [
    {
     "data": {
      "image/png": "[encoded data removed]",
      "text/plain": [
       "<Figure size 432x288 with 1 Axes>"
      ]
     },
     "metadata": {},
     "output_type": "display_data"
    }
   ],
   "source": [
    "single_agent_dynamic_field(400,100,gaussian_random_field(size = 20, flag_normalize = True),4)"
   ]
  },
  {
   "cell_type": "code",
   "execution_count": null,
   "metadata": {
    "collapsed": true
   },
   "outputs": [],
   "source": []
  }
 ],
 "metadata": {
  "anaconda-cloud": {},
  "kernelspec": {
   "display_name": "Python [conda env:Anaconda3]",
   "language": "python",
   "name": "conda-env-Anaconda3-py"
  },
  "language_info": {
   "codemirror_mode": {
    "name": "ipython",
    "version": 3
   },
   "file_extension": ".py",
   "mimetype": "text/x-python",
   "name": "python",
   "nbconvert_exporter": "python",
   "pygments_lexer": "ipython3",
   "version": "3.5.5"
  }
 },
 "nbformat": 4,
 "nbformat_minor": 1
}
