{
 "cells": [
  {
   "cell_type": "markdown",
   "metadata": {},
   "source": [
    "# Exercise 3"
   ]
  },
  {
   "cell_type": "code",
   "execution_count": 2,
   "metadata": {
    "collapsed": true
   },
   "outputs": [],
   "source": [
    "import matplotlib.pyplot as plt\n",
    "import numpy as np\n",
    "from IPython import display\n",
    "from math import pi\n",
    "import random"
   ]
  },
  {
   "cell_type": "code",
   "execution_count": 6,
   "metadata": {
    "collapsed": false
   },
   "outputs": [
    {
     "data": {
      "image/png": "[encoded data removed]",
      "text/plain": [
       "<Figure size 432x288 with 1 Axes>"
      ]
     },
     "metadata": {},
     "output_type": "display_data"
    }
   ],
   "source": [
    "%matplotlib inline\n",
    "plt.style.use('ggplot')\n",
    "\n",
    "# create an array with headings of 100 individuals\n",
    "heading = np.random.uniform(0,2*pi,100)\n",
    "\n",
    "# create arrays with initial x and y coordinates\n",
    "x = np.random.uniform(0,1,100)\n",
    "\n",
    "y = np.random.uniform(0,1,100)\n",
    "\n",
    "# set initial speed to a small random number (distance per unit of time(step))\n",
    "set_speed = random.uniform(0,0.05)\n",
    "\n",
    "# simulate the movement\n",
    "for k in range(100):\n",
    "    plt.clf()\n",
    "    \n",
    "    x = x + set_speed*np.cos(heading)\n",
    "    x = np.where(0<=x,x,1+x)\n",
    "    x = np.where(1>=x,x,x-1)\n",
    "    \n",
    "    y = y + set_speed*np.sin(heading)\n",
    "    y = np.where(0<=y,y,1+y)\n",
    "    y = np.where(1>=y,y,y-1)\n",
    "    \n",
    "    plt.scatter(x,y)\n",
    "    plt.axis([-0.1,1.1,-0.1,1.1])\n",
    "    display.display(plt.gcf())\n",
    "    display.clear_output(wait=True)\n",
    "    "
   ]
  }
 ],
 "metadata": {
  "anaconda-cloud": {},
  "kernelspec": {
   "display_name": "Python [conda env:Anaconda3]",
   "language": "python",
   "name": "conda-env-Anaconda3-py"
  },
  "language_info": {
   "codemirror_mode": {
    "name": "ipython",
    "version": 3
   },
   "file_extension": ".py",
   "mimetype": "text/x-python",
   "name": "python",
   "nbconvert_exporter": "python",
   "pygments_lexer": "ipython3",
   "version": "3.5.5"
  }
 },
 "nbformat": 4,
 "nbformat_minor": 1
}
